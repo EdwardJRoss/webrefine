{
 "cells": [
  {
   "cell_type": "code",
   "execution_count": null,
   "id": "a8d4bc5e",
   "metadata": {},
   "outputs": [],
   "source": [
    "# default_exp cdx"
   ]
  },
  {
   "cell_type": "markdown",
   "id": "811ebd94",
   "metadata": {},
   "source": [
    "# CDX"
   ]
  },
  {
   "cell_type": "markdown",
   "id": "dc0a04bf",
   "metadata": {},
   "source": [
    "This is an interface to the [Common Crawl Index](http://commoncrawl.org/2015/04/announcing-the-common-crawl-index/) and the [Internet Archive's CDX Server](https://github.com/internetarchive/wayback/tree/master/wayback-cdx-server) for finding archived resources based on URL patterns.\n",
    "It has a lot of overlap with [cdx_toolkit](https://github.com/cocrawler/cdx_toolkit) but is more optimised for speed and ease of use."
   ]
  },
  {
   "cell_type": "code",
   "execution_count": null,
   "id": "a830ace2",
   "metadata": {},
   "outputs": [],
   "source": [
    "#export\n",
    "# Typing\n",
    "from __future__ import annotations # For Python <3.9\n",
    "from typing import Any, Optional, Union\n",
    "from collections.abc import Iterable\n",
    "\n",
    "import requests\n",
    "from requests.sessions import Session\n",
    "import json"
   ]
  },
  {
   "cell_type": "code",
   "execution_count": null,
   "id": "caadd46d",
   "metadata": {},
   "outputs": [],
   "source": [
    "test_cache = 'data/test/cache'"
   ]
  },
  {
   "cell_type": "markdown",
   "id": "a941c9d9",
   "metadata": {},
   "source": [
    "# Internet Archive\n",
    "\n",
    "\n",
    "## Querying CDX\n",
    "\n",
    "The Internet Archive runs it's own [Java CDX Server](https://github.com/internetarchive/wayback/tree/master/wayback-cdx-server). [Hakernoon has an article](https://hackernoon.com/guide-to-handling-internet-archives-cdx-server-api-response-c469df5b81f4) that gives a good overview of querying it.\n",
    "\n",
    "See the documentation for all the paramemters; here are the ones that I find most interesting\n",
    "\n",
    "* url: The URL to query, a wildcard `*` can implicitly define it (which means we don't need `matchType`)\n",
    "* output: \"json\" returns JSON instead of space separated\n",
    "* fl: Comma separated list of fields to return\n",
    "* from, to: Date filtering 1-14 digits yyyyMMddhhmmss, inclusive (this seems to do the right thing for truncation).\n",
    "* filter: `[!]field:regex` filter a returned field with [Java Regex](https://docs.oracle.com/javase/6/docs/api/java/util/regex/Pattern.html), inverting with `!`\n",
    "* limit/offset: For getting a small number of results (sampling). Internal limit is 150000 results.\n",
    "\n",
    "Default fields returned: [\"urlkey\",\"timestamp\",\"original\",\"mimetype\",\"statuscode\",\"digest\",\"length\"]\n",
    "\n",
    "Pagination isn't really useful because it's applied *before* filtering (including date filtering) so most pages are empty with a date filter.\n",
    "Unpaginated requests are fast enough anyway."
   ]
  },
  {
   "cell_type": "markdown",
   "id": "a0d7e70b",
   "metadata": {},
   "source": [
    "### Exporting the data"
   ]
  },
  {
   "cell_type": "markdown",
   "id": "d59a6309",
   "metadata": {},
   "source": [
    "The data is a JSON array or arrays; the first line contains the headers and the subsequent the data.\n",
    "Let's transform it into a list of dictionaries of keys to values which make it a bit easier to work with (although less efficient in memory).\n",
    "\n",
    "An alternative would be to directly use something like Pandas"
   ]
  },
  {
   "cell_type": "code",
   "execution_count": null,
   "id": "7a1e0ab4",
   "metadata": {},
   "outputs": [],
   "source": [
    "#export\n",
    "def header_and_rows_to_dict(rows: Iterable[list[Any]]) -> list[dict[Any, Any]]:\n",
    "    header = None\n",
    "    data = []\n",
    "    for row in rows:\n",
    "        if header is None:\n",
    "            header = row\n",
    "        else:\n",
    "            assert len(row) == len(header), \"Row should be same length as header\"\n",
    "            data.append(dict(zip(header, row)))\n",
    "    return data"
   ]
  },
  {
   "cell_type": "markdown",
   "id": "f4400afe",
   "metadata": {},
   "source": [
    "Check it on some data"
   ]
  },
  {
   "cell_type": "code",
   "execution_count": null,
   "id": "c67767e2",
   "metadata": {},
   "outputs": [],
   "source": [
    "assert header_and_rows_to_dict([['col_1', 'col_2'], [1, 'a'], [2, 'b']]) == [\n",
    "    {'col_1': 1, 'col_2': 'a'},\n",
    "    {'col_1': 2, 'col_2': 'b'}]"
   ]
  },
  {
   "cell_type": "code",
   "execution_count": null,
   "id": "68604f65",
   "metadata": {},
   "outputs": [],
   "source": [
    "assert header_and_rows_to_dict([['col_1', 'col_2']]) == []"
   ]
  },
  {
   "cell_type": "code",
   "execution_count": null,
   "id": "83e9c33d",
   "metadata": {},
   "outputs": [],
   "source": [
    "assert header_and_rows_to_dict([]) == []"
   ]
  },
  {
   "cell_type": "markdown",
   "id": "21e3d242",
   "metadata": {},
   "source": [
    "### Making a query"
   ]
  },
  {
   "cell_type": "code",
   "execution_count": null,
   "id": "dcf57eba",
   "metadata": {},
   "outputs": [],
   "source": [
    "#export\n",
    "IA_CDX_URL = 'http://web.archive.org/cdx/search/cdx'\n",
    "\n",
    "# This could be more precise\n",
    "CaptureIndexRecord = dict\n",
    "\n",
    "def mimetypes_to_regex(mime: list[str], prefix='mimetype:') -> str:\n",
    "    return prefix + '|'.join('(' + s.replace('*', '.*') + ')' for s in mime)\n",
    "\n",
    "def query_wayback_cdx(url: str, start: Optional[str], end: Optional[str],\n",
    "                      status_ok: bool = True, \n",
    "                      mime: Optional[Union[str, Iterable[str]]] = None,\n",
    "                      limit: Optional[int] = None, offset: Optional[int] = None,\n",
    "                      session: Optional[Session] = None) -> list[CaptureIndexRecord]:\n",
    "    \"\"\"Get references to Wayback Machine Captures for url.\n",
    "    \n",
    "    Queries the Internet Archive Capture Index (CDX) for url.\n",
    "    \n",
    "    Arguments:\n",
    "      * start: Minimum date in format YYYYmmddHHMMSS (or any substring) inclusive\n",
    "      * end: Maximum date in format YYYYmmddHHMMSS (or any substring) inclusive\n",
    "      * status_ok: Only return those with a HTTP status 200\n",
    "      * mime: Filter on mimetypes, '*' is a wildcard (e.g. 'image/*')\n",
    "      * limit: Only return first limit records\n",
    "      * offset: Skip the first offset records, combine with limit\n",
    "      * session: Session to use when making requests\n",
    "    Filters results between start and end inclusive, in format YYYYmmddHHMMSS or any substring\n",
    "    (e.g. start=\"202001\", end=\"202001\" will get all captures in January 2020)\n",
    "    \"\"\"\n",
    "    if session is None:\n",
    "        session = requests\n",
    "        \n",
    "    params = {'url': url,\n",
    "              'output': 'json',\n",
    "              'from': start,\n",
    "              'to': end,\n",
    "              'limit': limit,\n",
    "              'offset': offset}\n",
    "    \n",
    "    filter = []\n",
    "    if status_ok:\n",
    "        filter.append('statuscode:200')\n",
    "    if mime:\n",
    "        # Turn our list of mimetypes into a regex\n",
    "        if isinstance(mime, str):\n",
    "            mime = [mime]\n",
    "        filter.append(mimetypes_to_regex(mime))\n",
    "    params['filter'] = filter\n",
    "    \n",
    "    params = {k:v for k,v in params.items() if v}\n",
    "    response = session.get(IA_CDX_URL, params=params)\n",
    "    response.raise_for_status()\n",
    "    return header_and_rows_to_dict(response.json())"
   ]
  },
  {
   "cell_type": "markdown",
   "id": "08cada58",
   "metadata": {},
   "source": [
    "#### Test querying"
   ]
  },
  {
   "cell_type": "code",
   "execution_count": null,
   "id": "eda75893",
   "metadata": {},
   "outputs": [
    {
     "name": "stdout",
     "output_type": "stream",
     "text": [
      "CPU times: user 2.83 ms, sys: 9.67 ms, total: 12.5 ms\n",
      "Wall time: 875 ms\n"
     ]
    }
   ],
   "source": [
    "%%time\n",
    "full_sample = query_wayback_cdx('skeptric.com/*', start=None, end=None, status_ok=False)"
   ]
  },
  {
   "cell_type": "code",
   "execution_count": null,
   "id": "b6d21c63",
   "metadata": {},
   "outputs": [
    {
     "data": {
      "text/plain": [
       "1579"
      ]
     },
     "execution_count": null,
     "metadata": {},
     "output_type": "execute_result"
    }
   ],
   "source": [
    "assert len(full_sample) > 1000\n",
    "len(full_sample)"
   ]
  },
  {
   "cell_type": "code",
   "execution_count": null,
   "id": "1b625132",
   "metadata": {},
   "outputs": [
    {
     "data": {
      "text/html": [
       "<div>\n",
       "<style scoped>\n",
       "    .dataframe tbody tr th:only-of-type {\n",
       "        vertical-align: middle;\n",
       "    }\n",
       "\n",
       "    .dataframe tbody tr th {\n",
       "        vertical-align: top;\n",
       "    }\n",
       "\n",
       "    .dataframe thead th {\n",
       "        text-align: right;\n",
       "    }\n",
       "</style>\n",
       "<table border=\"1\" class=\"dataframe\">\n",
       "  <thead>\n",
       "    <tr style=\"text-align: right;\">\n",
       "      <th></th>\n",
       "      <th>urlkey</th>\n",
       "      <th>timestamp</th>\n",
       "      <th>original</th>\n",
       "      <th>mimetype</th>\n",
       "      <th>statuscode</th>\n",
       "      <th>digest</th>\n",
       "      <th>length</th>\n",
       "    </tr>\n",
       "  </thead>\n",
       "  <tbody>\n",
       "    <tr>\n",
       "      <th>0</th>\n",
       "      <td>com,skeptric)/</td>\n",
       "      <td>20180805132731</td>\n",
       "      <td>http://skeptric.com/</td>\n",
       "      <td>text/html</td>\n",
       "      <td>200</td>\n",
       "      <td>2N5QQYZFAM36CSESTGSDKRTRV7I5HEXJ</td>\n",
       "      <td>1982</td>\n",
       "    </tr>\n",
       "    <tr>\n",
       "      <th>1</th>\n",
       "      <td>com,skeptric)/</td>\n",
       "      <td>20190610142553</td>\n",
       "      <td>http://skeptric.com/</td>\n",
       "      <td>warc/revisit</td>\n",
       "      <td>-</td>\n",
       "      <td>2N5QQYZFAM36CSESTGSDKRTRV7I5HEXJ</td>\n",
       "      <td>580</td>\n",
       "    </tr>\n",
       "    <tr>\n",
       "      <th>2</th>\n",
       "      <td>com,skeptric)/</td>\n",
       "      <td>20201126064102</td>\n",
       "      <td>https://skeptric.com/</td>\n",
       "      <td>text/html</td>\n",
       "      <td>200</td>\n",
       "      <td>WDYU3RU7ZMFFSZPAPE56PC4L3EK4FE3D</td>\n",
       "      <td>82985</td>\n",
       "    </tr>\n",
       "    <tr>\n",
       "      <th>3</th>\n",
       "      <td>com,skeptric)/</td>\n",
       "      <td>20210109075617</td>\n",
       "      <td>https://skeptric.com/</td>\n",
       "      <td>text/html</td>\n",
       "      <td>200</td>\n",
       "      <td>M6GZ4ZVD7U5L2TUXS5POHN36SSLOEPO7</td>\n",
       "      <td>92869</td>\n",
       "    </tr>\n",
       "    <tr>\n",
       "      <th>4</th>\n",
       "      <td>com,skeptric)/</td>\n",
       "      <td>20210417050827</td>\n",
       "      <td>https://skeptric.com/</td>\n",
       "      <td>text/html</td>\n",
       "      <td>200</td>\n",
       "      <td>ZOYZF2RVY44PBSNNXMVH27MHUPGGO4OK</td>\n",
       "      <td>101114</td>\n",
       "    </tr>\n",
       "    <tr>\n",
       "      <th>...</th>\n",
       "      <td>...</td>\n",
       "      <td>...</td>\n",
       "      <td>...</td>\n",
       "      <td>...</td>\n",
       "      <td>...</td>\n",
       "      <td>...</td>\n",
       "      <td>...</td>\n",
       "    </tr>\n",
       "    <tr>\n",
       "      <th>1574</th>\n",
       "      <td>com,skeptric)/wsl2-xserver</td>\n",
       "      <td>20201216173655</td>\n",
       "      <td>https://skeptric.com/wsl2-xserver/</td>\n",
       "      <td>warc/revisit</td>\n",
       "      <td>-</td>\n",
       "      <td>UAS4RFHUDI6TNMPWVTD4N6RZWLKQAOGT</td>\n",
       "      <td>720</td>\n",
       "    </tr>\n",
       "    <tr>\n",
       "      <th>1575</th>\n",
       "      <td>com,skeptric)/wsl2-xserver</td>\n",
       "      <td>20201216185608</td>\n",
       "      <td>https://skeptric.com/wsl2-xserver/</td>\n",
       "      <td>warc/revisit</td>\n",
       "      <td>-</td>\n",
       "      <td>UAS4RFHUDI6TNMPWVTD4N6RZWLKQAOGT</td>\n",
       "      <td>721</td>\n",
       "    </tr>\n",
       "    <tr>\n",
       "      <th>1576</th>\n",
       "      <td>com,skeptric)/wsl2-xserver</td>\n",
       "      <td>20210128160531</td>\n",
       "      <td>https://skeptric.com/wsl2-xserver/</td>\n",
       "      <td>text/html</td>\n",
       "      <td>200</td>\n",
       "      <td>BBSHS372N5MIYDLGSQWQKF6TKNBEDD35</td>\n",
       "      <td>5794</td>\n",
       "    </tr>\n",
       "    <tr>\n",
       "      <th>1577</th>\n",
       "      <td>com,skeptric)/wsl2-xserver</td>\n",
       "      <td>20210520180504</td>\n",
       "      <td>https://skeptric.com/wsl2-xserver/</td>\n",
       "      <td>text/html</td>\n",
       "      <td>200</td>\n",
       "      <td>BBSHS372N5MIYDLGSQWQKF6TKNBEDD35</td>\n",
       "      <td>4821</td>\n",
       "    </tr>\n",
       "    <tr>\n",
       "      <th>1578</th>\n",
       "      <td>com,skeptric)/wsl2-xserver</td>\n",
       "      <td>20211011012618</td>\n",
       "      <td>https://skeptric.com/wsl2-xserver/</td>\n",
       "      <td>text/html</td>\n",
       "      <td>200</td>\n",
       "      <td>LZPYUW2572JR5QP3W3JLQ4SAHQWCY7PQ</td>\n",
       "      <td>5603</td>\n",
       "    </tr>\n",
       "  </tbody>\n",
       "</table>\n",
       "<p>1579 rows × 7 columns</p>\n",
       "</div>"
      ],
      "text/plain": [
       "                          urlkey       timestamp  \\\n",
       "0                 com,skeptric)/  20180805132731   \n",
       "1                 com,skeptric)/  20190610142553   \n",
       "2                 com,skeptric)/  20201126064102   \n",
       "3                 com,skeptric)/  20210109075617   \n",
       "4                 com,skeptric)/  20210417050827   \n",
       "...                          ...             ...   \n",
       "1574  com,skeptric)/wsl2-xserver  20201216173655   \n",
       "1575  com,skeptric)/wsl2-xserver  20201216185608   \n",
       "1576  com,skeptric)/wsl2-xserver  20210128160531   \n",
       "1577  com,skeptric)/wsl2-xserver  20210520180504   \n",
       "1578  com,skeptric)/wsl2-xserver  20211011012618   \n",
       "\n",
       "                                original      mimetype statuscode  \\\n",
       "0                   http://skeptric.com/     text/html        200   \n",
       "1                   http://skeptric.com/  warc/revisit          -   \n",
       "2                  https://skeptric.com/     text/html        200   \n",
       "3                  https://skeptric.com/     text/html        200   \n",
       "4                  https://skeptric.com/     text/html        200   \n",
       "...                                  ...           ...        ...   \n",
       "1574  https://skeptric.com/wsl2-xserver/  warc/revisit          -   \n",
       "1575  https://skeptric.com/wsl2-xserver/  warc/revisit          -   \n",
       "1576  https://skeptric.com/wsl2-xserver/     text/html        200   \n",
       "1577  https://skeptric.com/wsl2-xserver/     text/html        200   \n",
       "1578  https://skeptric.com/wsl2-xserver/     text/html        200   \n",
       "\n",
       "                                digest  length  \n",
       "0     2N5QQYZFAM36CSESTGSDKRTRV7I5HEXJ    1982  \n",
       "1     2N5QQYZFAM36CSESTGSDKRTRV7I5HEXJ     580  \n",
       "2     WDYU3RU7ZMFFSZPAPE56PC4L3EK4FE3D   82985  \n",
       "3     M6GZ4ZVD7U5L2TUXS5POHN36SSLOEPO7   92869  \n",
       "4     ZOYZF2RVY44PBSNNXMVH27MHUPGGO4OK  101114  \n",
       "...                                ...     ...  \n",
       "1574  UAS4RFHUDI6TNMPWVTD4N6RZWLKQAOGT     720  \n",
       "1575  UAS4RFHUDI6TNMPWVTD4N6RZWLKQAOGT     721  \n",
       "1576  BBSHS372N5MIYDLGSQWQKF6TKNBEDD35    5794  \n",
       "1577  BBSHS372N5MIYDLGSQWQKF6TKNBEDD35    4821  \n",
       "1578  LZPYUW2572JR5QP3W3JLQ4SAHQWCY7PQ    5603  \n",
       "\n",
       "[1579 rows x 7 columns]"
      ]
     },
     "execution_count": null,
     "metadata": {},
     "output_type": "execute_result"
    }
   ],
   "source": [
    "import pandas as pd\n",
    "pd.DataFrame(full_sample)"
   ]
  },
  {
   "cell_type": "code",
   "execution_count": null,
   "id": "06250d75",
   "metadata": {},
   "outputs": [
    {
     "data": {
      "text/plain": [
       "('20170915060403', '20211123083615')"
      ]
     },
     "execution_count": null,
     "metadata": {},
     "output_type": "execute_result"
    }
   ],
   "source": [
    "timestamps = [x['timestamp'] for x in full_sample]\n",
    "min(timestamps), max(timestamps)"
   ]
  },
  {
   "cell_type": "code",
   "execution_count": null,
   "id": "7dadd2b4",
   "metadata": {},
   "outputs": [
    {
     "data": {
      "text/plain": [
       "mimetype                  statuscode\n",
       "application/javascript    200             1\n",
       "application/octet-stream  200             3\n",
       "image/gif                 200             3\n",
       "image/jpeg                200            59\n",
       "image/png                 200           292\n",
       "image/svg+xml             200            51\n",
       "image/vnd.microsoft.icon  200             1\n",
       "image/x-icon              200             2\n",
       "text/css                  200            10\n",
       "text/html                 200           393\n",
       "                          302             1\n",
       "                          404             5\n",
       "warc/revisit              -             758\n",
       "Name: urlkey, dtype: int64"
      ]
     },
     "execution_count": null,
     "metadata": {},
     "output_type": "execute_result"
    }
   ],
   "source": [
    "pd.DataFrame(full_sample).groupby(['mimetype', 'statuscode'])['urlkey'].count()"
   ]
  },
  {
   "cell_type": "markdown",
   "id": "6aea9c2b",
   "metadata": {},
   "source": [
    "#### Test statuscode filter"
   ]
  },
  {
   "cell_type": "code",
   "execution_count": null,
   "id": "1b5f2f0a",
   "metadata": {},
   "outputs": [
    {
     "name": "stdout",
     "output_type": "stream",
     "text": [
      "CPU times: user 7.22 ms, sys: 3.09 ms, total: 10.3 ms\n",
      "Wall time: 659 ms\n"
     ]
    }
   ],
   "source": [
    "%%time\n",
    "ok_sample = query_wayback_cdx('skeptric.com/*', start=None, end=None) #status_ok=True"
   ]
  },
  {
   "cell_type": "code",
   "execution_count": null,
   "id": "a6b0a931",
   "metadata": {},
   "outputs": [],
   "source": [
    "assert ok_sample == [x for x in full_sample if x['statuscode'] == '200']"
   ]
  },
  {
   "cell_type": "markdown",
   "id": "ab5499ad",
   "metadata": {},
   "source": [
    "#### Test mimetypes"
   ]
  },
  {
   "cell_type": "code",
   "execution_count": null,
   "id": "36d8aed9",
   "metadata": {},
   "outputs": [
    {
     "name": "stdout",
     "output_type": "stream",
     "text": [
      "CPU times: user 12 ms, sys: 735 µs, total: 12.7 ms\n",
      "Wall time: 676 ms\n"
     ]
    }
   ],
   "source": [
    "%%time\n",
    "html_sample = query_wayback_cdx('skeptric.com/*', start=None, end=None, status_ok=False, mime='text/html')"
   ]
  },
  {
   "cell_type": "code",
   "execution_count": null,
   "id": "c69fafd8",
   "metadata": {},
   "outputs": [],
   "source": [
    "assert html_sample == [x for x in full_sample if x['mimetype'] == 'text/html']"
   ]
  },
  {
   "cell_type": "code",
   "execution_count": null,
   "id": "c88a6921",
   "metadata": {},
   "outputs": [
    {
     "name": "stdout",
     "output_type": "stream",
     "text": [
      "CPU times: user 7.9 ms, sys: 0 ns, total: 7.9 ms\n",
      "Wall time: 669 ms\n"
     ]
    }
   ],
   "source": [
    "%%time\n",
    "image_sample = query_wayback_cdx('skeptric.com/*', start=None, end=None, status_ok=False, mime='image/*')"
   ]
  },
  {
   "cell_type": "code",
   "execution_count": null,
   "id": "b61d2097",
   "metadata": {},
   "outputs": [],
   "source": [
    "assert image_sample == [x for x in full_sample if x['mimetype'].startswith('image/')]"
   ]
  },
  {
   "cell_type": "code",
   "execution_count": null,
   "id": "64391fa9",
   "metadata": {},
   "outputs": [
    {
     "name": "stdout",
     "output_type": "stream",
     "text": [
      "CPU times: user 0 ns, sys: 6.06 ms, total: 6.06 ms\n",
      "Wall time: 467 ms\n"
     ]
    }
   ],
   "source": [
    "%%time\n",
    "prog_sample = query_wayback_cdx('skeptric.com/*', start=None, end=None, status_ok=False, \n",
    "                                 mime=['text/css', 'application/javascript'])"
   ]
  },
  {
   "cell_type": "code",
   "execution_count": null,
   "id": "262a5fc6",
   "metadata": {},
   "outputs": [],
   "source": [
    "assert prog_sample == [x for x in full_sample if x['mimetype'] in ['text/css', 'application/javascript']]"
   ]
  },
  {
   "cell_type": "markdown",
   "id": "f77f2442",
   "metadata": {},
   "source": [
    "#### Test date filters"
   ]
  },
  {
   "cell_type": "code",
   "execution_count": null,
   "id": "1ae552eb",
   "metadata": {},
   "outputs": [
    {
     "name": "stdout",
     "output_type": "stream",
     "text": [
      "CPU times: user 4.91 ms, sys: 2.1 ms, total: 7.01 ms\n",
      "Wall time: 781 ms\n"
     ]
    },
    {
     "data": {
      "text/plain": [
       "106"
      ]
     },
     "execution_count": null,
     "metadata": {},
     "output_type": "execute_result"
    }
   ],
   "source": [
    "%%time\n",
    "sample_2020 = query_wayback_cdx('skeptric.com/*', start='2020', end='2020', status_ok=False)\n",
    "len(sample_2020)"
   ]
  },
  {
   "cell_type": "code",
   "execution_count": null,
   "id": "89ed2b51",
   "metadata": {},
   "outputs": [],
   "source": [
    "assert sample_2020 == [x for x in full_sample if '2020' <= x['timestamp'] < '2021']"
   ]
  },
  {
   "cell_type": "code",
   "execution_count": null,
   "id": "fb54dc8d",
   "metadata": {},
   "outputs": [
    {
     "name": "stdout",
     "output_type": "stream",
     "text": [
      "CPU times: user 3.64 ms, sys: 1.09 ms, total: 4.73 ms\n",
      "Wall time: 453 ms\n"
     ]
    }
   ],
   "source": [
    "%%time\n",
    "sample_to_2020 = query_wayback_cdx('skeptric.com/*', start=None, end='2020', status_ok=False)"
   ]
  },
  {
   "cell_type": "code",
   "execution_count": null,
   "id": "e40cebc2",
   "metadata": {},
   "outputs": [],
   "source": [
    "assert sample_to_2020 == [x for x in full_sample if x['timestamp'] < '2021']"
   ]
  },
  {
   "cell_type": "code",
   "execution_count": null,
   "id": "aa2e9d04",
   "metadata": {},
   "outputs": [
    {
     "name": "stdout",
     "output_type": "stream",
     "text": [
      "CPU times: user 12.7 ms, sys: 945 µs, total: 13.6 ms\n",
      "Wall time: 841 ms\n"
     ]
    }
   ],
   "source": [
    "%%time\n",
    "sample_from_2020 = query_wayback_cdx('skeptric.com/*', start='2020', end=None, status_ok=False)"
   ]
  },
  {
   "cell_type": "code",
   "execution_count": null,
   "id": "5aa5a888",
   "metadata": {},
   "outputs": [],
   "source": [
    "assert sample_from_2020 == [x for x in full_sample if x['timestamp'] >= '2020']"
   ]
  },
  {
   "cell_type": "markdown",
   "id": "8a01655d",
   "metadata": {},
   "source": [
    "#### Test limits"
   ]
  },
  {
   "cell_type": "code",
   "execution_count": null,
   "id": "87dbb1fc",
   "metadata": {},
   "outputs": [
    {
     "name": "stdout",
     "output_type": "stream",
     "text": [
      "CPU times: user 3.19 ms, sys: 1.3 ms, total: 4.48 ms\n",
      "Wall time: 443 ms\n"
     ]
    }
   ],
   "source": [
    "%%time\n",
    "sample_10 = query_wayback_cdx('skeptric.com/*', start=None, end=None, status_ok=False, limit=10)"
   ]
  },
  {
   "cell_type": "code",
   "execution_count": null,
   "id": "066f8b55",
   "metadata": {},
   "outputs": [
    {
     "data": {
      "text/plain": [
       "True"
      ]
     },
     "execution_count": null,
     "metadata": {},
     "output_type": "execute_result"
    }
   ],
   "source": [
    "sample_10 == full_sample[:10]"
   ]
  },
  {
   "cell_type": "code",
   "execution_count": null,
   "id": "112d8e95",
   "metadata": {},
   "outputs": [
    {
     "name": "stdout",
     "output_type": "stream",
     "text": [
      "CPU times: user 4.32 ms, sys: 1.77 ms, total: 6.1 ms\n",
      "Wall time: 497 ms\n"
     ]
    }
   ],
   "source": [
    "%%time\n",
    "sample_10_offset_20 = query_wayback_cdx('skeptric.com/*', start=None, end=None, status_ok=False, limit=10, offset=20)"
   ]
  },
  {
   "cell_type": "code",
   "execution_count": null,
   "id": "77d5c06a",
   "metadata": {},
   "outputs": [],
   "source": [
    "assert sample_10_offset_20  == full_sample[20:20+10]"
   ]
  },
  {
   "cell_type": "markdown",
   "id": "8928fec4",
   "metadata": {},
   "source": [
    "## Fetching Content"
   ]
  },
  {
   "cell_type": "code",
   "execution_count": null,
   "id": "e2d19a75",
   "metadata": {},
   "outputs": [],
   "source": [
    "#export\n",
    "def fetch_internet_archive_content(timestamp: str, url: str,\n",
    "                                   session: Optional[Session] = None) -> bytes:\n",
    "    if session is None:\n",
    "        session = requests\n",
    "        \n",
    "    url = f'http://web.archive.org/web/{timestamp}/{url}'\n",
    "    response = session.get(url)\n",
    "    # Sometimes Internet Archive deletes records\n",
    "    if response.status_code == 404:\n",
    "        logging.warning(f'Missing {url}')\n",
    "        return None\n",
    "    response.raise_for_status()\n",
    "    return response.content"
   ]
  },
  {
   "cell_type": "code",
   "execution_count": null,
   "id": "252a7b86",
   "metadata": {},
   "outputs": [
    {
     "data": {
      "text/plain": [
       "{'urlkey': 'com,skeptric)/favicon.ico',\n",
       " 'timestamp': '20180819051126',\n",
       " 'original': 'http://skeptric.com/favicon.ico',\n",
       " 'mimetype': 'image/vnd.microsoft.icon',\n",
       " 'statuscode': '200',\n",
       " 'digest': 'R6YE2GPPT4BM4IAMHGUJPDJF6BGKKHDA',\n",
       " 'length': '851'}"
      ]
     },
     "execution_count": null,
     "metadata": {},
     "output_type": "execute_result"
    }
   ],
   "source": [
    "record = image_sample[0]\n",
    "record"
   ]
  },
  {
   "cell_type": "code",
   "execution_count": null,
   "id": "d6282e7f",
   "metadata": {},
   "outputs": [],
   "source": [
    "content = fetch_internet_archive_content(record['timestamp'], record['original'])"
   ]
  },
  {
   "cell_type": "code",
   "execution_count": null,
   "id": "ff18f8d4",
   "metadata": {},
   "outputs": [
    {
     "data": {
      "image/png": "[encoded data removed]",
      "text/plain": [
       "<IPython.core.display.Image object>"
      ]
     },
     "execution_count": null,
     "metadata": {},
     "output_type": "execute_result"
    }
   ],
   "source": [
    "from IPython.display import Image\n",
    "Image(content)"
   ]
  },
  {
   "cell_type": "code",
   "execution_count": null,
   "id": "4b45b499",
   "metadata": {},
   "outputs": [
    {
     "data": {
      "text/plain": [
       "1150"
      ]
     },
     "execution_count": null,
     "metadata": {},
     "output_type": "execute_result"
    }
   ],
   "source": [
    "len(content)"
   ]
  },
  {
   "cell_type": "code",
   "execution_count": null,
   "id": "e24d5d96",
   "metadata": {},
   "outputs": [
    {
     "data": {
      "text/plain": [
       "{'urlkey': 'com,skeptric)/',\n",
       " 'timestamp': '20180805132731',\n",
       " 'original': 'http://skeptric.com/',\n",
       " 'mimetype': 'text/html',\n",
       " 'statuscode': '200',\n",
       " 'digest': '2N5QQYZFAM36CSESTGSDKRTRV7I5HEXJ',\n",
       " 'length': '1982'}"
      ]
     },
     "execution_count": null,
     "metadata": {},
     "output_type": "execute_result"
    }
   ],
   "source": [
    "record = ok_sample[0]\n",
    "record"
   ]
  },
  {
   "cell_type": "code",
   "execution_count": null,
   "id": "e0f12231",
   "metadata": {},
   "outputs": [],
   "source": [
    "content = fetch_internet_archive_content(record['timestamp'], record['original'])"
   ]
  },
  {
   "cell_type": "code",
   "execution_count": null,
   "id": "b1187ee3",
   "metadata": {},
   "outputs": [
    {
     "data": {
      "text/plain": [
       "b'<!DOCTYPE html>\\n<html lang=\"en\">\\n  <head><script src=\"//archive.org/includes/analytics.js?v=cf34f82\"'"
      ]
     },
     "execution_count": null,
     "metadata": {},
     "output_type": "execute_result"
    }
   ],
   "source": [
    "content[:100]"
   ]
  },
  {
   "cell_type": "markdown",
   "id": "196b798d",
   "metadata": {},
   "source": [
    "## Wrap it in a fast Object"
   ]
  },
  {
   "cell_type": "markdown",
   "id": "53e330fc",
   "metadata": {},
   "source": [
    "I have no idea whether Session is [actually thread-safe](https://github.com/urllib3/urllib3/issues/1252); if it's not we should have 1 session per thread. As far as I can tell the issue occurs when you have lots of hosts, so in this case it should be ok.\n",
    "\n",
    "I guess we'll try it and see. Maybe long term we're better going with asyncio.\n",
    "Using a Session makes things slightly faster; we can always turn it off by passing session=False."
   ]
  },
  {
   "cell_type": "code",
   "execution_count": null,
   "id": "852b8530",
   "metadata": {},
   "outputs": [],
   "source": [
    "#export\n",
    "from requests.adapters import HTTPAdapter\n",
    "from requests.packages.urllib3.util.retry import Retry\n",
    "\n",
    "def make_session(pool_maxsize):\n",
    "    retry_strategy =  Retry(total=5, backoff_factor=1, status_forcelist=set([504, 500]))\n",
    "    adapter = HTTPAdapter(max_retries=retry_strategy, pool_maxsize=pool_maxsize, pool_block=True)\n",
    "    session = requests.Session()\n",
    "    session.mount('http://', adapter)\n",
    "    session.mount('https://', adapter)\n",
    "    return session"
   ]
  },
  {
   "cell_type": "markdown",
   "id": "b86e8b22",
   "metadata": {},
   "source": [
    "We cache everything with joblib and make it fast.\n",
    "\n",
    "Note we only use 8 threads to avoid overloading the servers."
   ]
  },
  {
   "cell_type": "code",
   "execution_count": null,
   "id": "6fa3b1ab",
   "metadata": {},
   "outputs": [],
   "source": [
    "#export\n",
    "from joblib import delayed, Memory, Parallel\n",
    "\n",
    "class WaybackResult:\n",
    "    def __init__(self, params, session=None):\n",
    "        self.params = params\n",
    "        self.session = session\n",
    "        self._query = self.memory.cache(query_wayback_cdx, ignore=['session']) \n",
    "    \n",
    "    def fetch(self, force=False):\n",
    "        fetch = self._fetch.call if force else self._fetch\n",
    "        result = fetch(record['timestamp'], record['original'], session=self.session)\n",
    "        return result[0] if force else result\n",
    "        \n",
    "\n",
    "class WaybackMachine:\n",
    "    def __init__(self, location: Optional[str],\n",
    "                 session: Union[bool, Session] = True, threads: int=8, verbose=0) -> None:\n",
    "        self.threads = threads\n",
    "        self.memory = Memory(location, verbose=verbose)\n",
    "        \n",
    "        if session is True:\n",
    "            session = make_session(pool_maxsize=threads)\n",
    "        if not session:\n",
    "            session = None\n",
    "        self.session = session\n",
    "        \n",
    "        self._query = self.memory.cache(query_wayback_cdx, ignore=['session'])\n",
    "        self._fetch = self.memory.cache(fetch_internet_archive_content, ignore=['session'])\n",
    "        \n",
    "    def query(self, url: str, start: Optional[str], end: Optional[str],\n",
    "                      status_ok: bool = True, mime: Optional[Union[str, Iterable[str]]] = None,\n",
    "                      limit: Optional[int] = None, offset: Optional[int] = None, force=False) -> List[CaptureIndexRecord]:\n",
    "        query = self._query.call if force else self._query\n",
    "        result = query(url, start, end, status_ok, mime, limit, offset, session=self.session)\n",
    "        return result[0] if force else result\n",
    "    \n",
    "    def fetch_one(self, record, force=False) -> bytes:\n",
    "        fetch = self._fetch.call if force else self._fetch\n",
    "        result = fetch(record['timestamp'], record['original'], session=self.session)\n",
    "        return result[0] if force else result\n",
    "    \n",
    "    def fetch(self, records, force=False, threads=None) -> bytes:\n",
    "        fetch = self._fetch.call if force else self._fetch\n",
    "        result = Parallel(threads or self.threads, prefer='threads')(delayed(self.fetch_one)(record, force) for record in records)\n",
    "        return result"
   ]
  },
  {
   "cell_type": "markdown",
   "id": "bee966fc",
   "metadata": {},
   "source": [
    "#### Test fetching one"
   ]
  },
  {
   "cell_type": "code",
   "execution_count": null,
   "id": "217129ac",
   "metadata": {},
   "outputs": [],
   "source": [
    "wb = WaybackMachine(test_cache, verbose=1)"
   ]
  },
  {
   "cell_type": "code",
   "execution_count": null,
   "id": "950bb5fe",
   "metadata": {},
   "outputs": [
    {
     "name": "stderr",
     "output_type": "stream",
     "text": [
      "WARNING:root:[Memory(location=data/test/cache/joblib)]: Flushing completely the cache\n"
     ]
    }
   ],
   "source": [
    "wb.memory.clear()"
   ]
  },
  {
   "cell_type": "code",
   "execution_count": null,
   "id": "66ed8ea8",
   "metadata": {},
   "outputs": [
    {
     "name": "stdout",
     "output_type": "stream",
     "text": [
      "________________________________________________________________________________\n",
      "[Memory] Calling __main__--tmp-ipykernel-2773891608.query_wayback_cdx...\n",
      "query_wayback_cdx('skeptric.com/*', None, None, True, None, None, None, session=<requests.sessions.Session object at 0x7f06ad067be0>)\n",
      "________________________________________________query_wayback_cdx - 0.9s, 0.0min\n",
      "CPU times: user 62.1 ms, sys: 0 ns, total: 62.1 ms\n",
      "Wall time: 881 ms\n"
     ]
    }
   ],
   "source": [
    "%%time\n",
    "items = wb.query('skeptric.com/*', None, None)"
   ]
  },
  {
   "cell_type": "code",
   "execution_count": null,
   "id": "4a091ec3",
   "metadata": {},
   "outputs": [
    {
     "name": "stdout",
     "output_type": "stream",
     "text": [
      "CPU times: user 22.9 ms, sys: 0 ns, total: 22.9 ms\n",
      "Wall time: 19.6 ms\n"
     ]
    }
   ],
   "source": [
    "%%time\n",
    "items2 = wb.query('skeptric.com/*', None, None)"
   ]
  },
  {
   "cell_type": "code",
   "execution_count": null,
   "id": "14b454cd",
   "metadata": {},
   "outputs": [],
   "source": [
    "assert items2 == items"
   ]
  },
  {
   "cell_type": "code",
   "execution_count": null,
   "id": "36c2b59c",
   "metadata": {},
   "outputs": [
    {
     "name": "stdout",
     "output_type": "stream",
     "text": [
      "________________________________________________________________________________\n",
      "[Memory] Calling __main__--tmp-ipykernel-2773891608.query_wayback_cdx...\n",
      "query_wayback_cdx('skeptric.com/*', None, None, True, None, None, None, session=<requests.sessions.Session object at 0x7f06ad067be0>)\n",
      "________________________________________________query_wayback_cdx - 0.7s, 0.0min\n",
      "CPU times: user 39.1 ms, sys: 3.69 ms, total: 42.8 ms\n",
      "Wall time: 682 ms\n"
     ]
    }
   ],
   "source": [
    "%%time\n",
    "items3 = wb.query('skeptric.com/*', None, None, force=True)"
   ]
  },
  {
   "cell_type": "code",
   "execution_count": null,
   "id": "cd41a260",
   "metadata": {},
   "outputs": [],
   "source": [
    "assert items3 == items"
   ]
  },
  {
   "cell_type": "code",
   "execution_count": null,
   "id": "a30fa598",
   "metadata": {},
   "outputs": [
    {
     "name": "stdout",
     "output_type": "stream",
     "text": [
      "________________________________________________________________________________\n",
      "[Memory] Calling __main__--tmp-ipykernel-2187831798.fetch_internet_archive_content...\n",
      "fetch_internet_archive_content('20180805132731', 'http://skeptric.com/', session=<requests.sessions.Session object at 0x7f06ad067be0>)\n",
      "___________________________________fetch_internet_archive_content - 0.2s, 0.0min\n",
      "CPU times: user 8.33 ms, sys: 0 ns, total: 8.33 ms\n",
      "Wall time: 179 ms\n"
     ]
    }
   ],
   "source": [
    "%%time\n",
    "content = wb.fetch_one(items[0])"
   ]
  },
  {
   "cell_type": "code",
   "execution_count": null,
   "id": "bfed2cb8",
   "metadata": {},
   "outputs": [
    {
     "name": "stdout",
     "output_type": "stream",
     "text": [
      "CPU times: user 3.11 ms, sys: 0 ns, total: 3.11 ms\n",
      "Wall time: 1.73 ms\n"
     ]
    }
   ],
   "source": [
    "%%time\n",
    "content2 = wb.fetch_one(items[0])"
   ]
  },
  {
   "cell_type": "code",
   "execution_count": null,
   "id": "616b9be3",
   "metadata": {},
   "outputs": [],
   "source": [
    "assert content2 == content"
   ]
  },
  {
   "cell_type": "code",
   "execution_count": null,
   "id": "913cadab",
   "metadata": {},
   "outputs": [
    {
     "name": "stdout",
     "output_type": "stream",
     "text": [
      "________________________________________________________________________________\n",
      "[Memory] Calling __main__--tmp-ipykernel-2187831798.fetch_internet_archive_content...\n",
      "fetch_internet_archive_content('20180805132731', 'http://skeptric.com/', session=<requests.sessions.Session object at 0x7f06ad067be0>)\n",
      "___________________________________fetch_internet_archive_content - 0.2s, 0.0min\n",
      "CPU times: user 7.05 ms, sys: 1.43 ms, total: 8.48 ms\n",
      "Wall time: 184 ms\n"
     ]
    }
   ],
   "source": [
    "%%time\n",
    "content3 = wb.fetch_one(items[0], force=True)"
   ]
  },
  {
   "cell_type": "code",
   "execution_count": null,
   "id": "674364ca",
   "metadata": {},
   "outputs": [],
   "source": [
    "assert content3 == content"
   ]
  },
  {
   "cell_type": "markdown",
   "id": "404f57f8",
   "metadata": {},
   "source": [
    "#### Test fetching many"
   ]
  },
  {
   "cell_type": "code",
   "execution_count": null,
   "id": "b74dd72a",
   "metadata": {},
   "outputs": [],
   "source": [
    "wb = WaybackMachine(test_cache, verbose=0)"
   ]
  },
  {
   "cell_type": "code",
   "execution_count": null,
   "id": "ef3a2781",
   "metadata": {},
   "outputs": [
    {
     "name": "stdout",
     "output_type": "stream",
     "text": [
      "CPU times: user 168 ms, sys: 57.3 ms, total: 226 ms\n",
      "Wall time: 3.09 s\n"
     ]
    }
   ],
   "source": [
    "%%time\n",
    "contents_16 = wb.fetch(items[:16], threads=8)"
   ]
  },
  {
   "cell_type": "code",
   "execution_count": null,
   "id": "1be81e33",
   "metadata": {},
   "outputs": [],
   "source": [
    "assert contents_16[0] == content"
   ]
  },
  {
   "cell_type": "markdown",
   "id": "88a3a25b",
   "metadata": {},
   "source": [
    "# Common Crawl"
   ]
  },
  {
   "cell_type": "markdown",
   "id": "f7e7523f",
   "metadata": {},
   "source": [
    "Common Crawl is similar, but slightly different, because it is split over many indexes, roughly monthly covering 2 weeks."
   ]
  },
  {
   "cell_type": "markdown",
   "id": "57c71a3d",
   "metadata": {},
   "source": [
    "## Indexes"
   ]
  },
  {
   "cell_type": "markdown",
   "id": "c29750f7",
   "metadata": {},
   "source": [
    "Cache within a session, but not between sessions since over months the indexes change."
   ]
  },
  {
   "cell_type": "code",
   "execution_count": null,
   "id": "2a2b002c",
   "metadata": {},
   "outputs": [],
   "source": [
    "#export\n",
    "from functools import lru_cache\n",
    "@lru_cache(maxsize=None)\n",
    "def get_cc_indexes() -> List[Dict[str, str]]:\n",
    "    response = requests.get(\"https://index.commoncrawl.org/collinfo.json\")\n",
    "    response.raise_for_status()\n",
    "    return response.json()"
   ]
  },
  {
   "cell_type": "code",
   "execution_count": null,
   "id": "b804e130",
   "metadata": {},
   "outputs": [
    {
     "data": {
      "text/plain": [
       "[{'id': 'CC-MAIN-2021-43',\n",
       "  'name': 'October 2021 Index',\n",
       "  'timegate': 'https://index.commoncrawl.org/CC-MAIN-2021-43/',\n",
       "  'cdx-api': 'https://index.commoncrawl.org/CC-MAIN-2021-43-index'},\n",
       " {'id': 'CC-MAIN-2021-39',\n",
       "  'name': 'September 2021 Index',\n",
       "  'timegate': 'https://index.commoncrawl.org/CC-MAIN-2021-39/',\n",
       "  'cdx-api': 'https://index.commoncrawl.org/CC-MAIN-2021-39-index'},\n",
       " {'id': 'CC-MAIN-2021-31',\n",
       "  'name': 'July 2021 Index',\n",
       "  'timegate': 'https://index.commoncrawl.org/CC-MAIN-2021-31/',\n",
       "  'cdx-api': 'https://index.commoncrawl.org/CC-MAIN-2021-31-index'}]"
      ]
     },
     "execution_count": null,
     "metadata": {},
     "output_type": "execute_result"
    }
   ],
   "source": [
    "indexes = get_cc_indexes()\n",
    "indexes[:3]"
   ]
  },
  {
   "cell_type": "markdown",
   "id": "49240fd7",
   "metadata": {},
   "source": [
    "Notice the oldest ones have a different format"
   ]
  },
  {
   "cell_type": "code",
   "execution_count": null,
   "id": "5c1ed6fc",
   "metadata": {},
   "outputs": [
    {
     "data": {
      "text/plain": [
       "[{'id': 'CC-MAIN-2013-20',\n",
       "  'name': 'Summer 2013 Index',\n",
       "  'timegate': 'https://index.commoncrawl.org/CC-MAIN-2013-20/',\n",
       "  'cdx-api': 'https://index.commoncrawl.org/CC-MAIN-2013-20-index'},\n",
       " {'id': 'CC-MAIN-2012',\n",
       "  'name': 'Index of 2012 ARC files',\n",
       "  'timegate': 'https://index.commoncrawl.org/CC-MAIN-2012/',\n",
       "  'cdx-api': 'https://index.commoncrawl.org/CC-MAIN-2012-index'},\n",
       " {'id': 'CC-MAIN-2009-2010',\n",
       "  'name': 'Index of 2009 - 2010 ARC files',\n",
       "  'timegate': 'https://index.commoncrawl.org/CC-MAIN-2009-2010/',\n",
       "  'cdx-api': 'https://index.commoncrawl.org/CC-MAIN-2009-2010-index'},\n",
       " {'id': 'CC-MAIN-2008-2009',\n",
       "  'name': 'Index of 2008 - 2009 ARC files',\n",
       "  'timegate': 'https://index.commoncrawl.org/CC-MAIN-2008-2009/',\n",
       "  'cdx-api': 'https://index.commoncrawl.org/CC-MAIN-2008-2009-index'}]"
      ]
     },
     "execution_count": null,
     "metadata": {},
     "output_type": "execute_result"
    }
   ],
   "source": [
    "indexes[-4:]"
   ]
  },
  {
   "cell_type": "markdown",
   "id": "7b7a4d71",
   "metadata": {},
   "source": [
    "## Parsing the times"
   ]
  },
  {
   "cell_type": "code",
   "execution_count": null,
   "id": "3d9fd395",
   "metadata": {},
   "outputs": [
    {
     "data": {
      "text/plain": [
       "datetime.datetime(2021, 10, 30, 0, 0)"
      ]
     },
     "execution_count": null,
     "metadata": {},
     "output_type": "execute_result"
    }
   ],
   "source": [
    "import re\n",
    "from datetime import datetime\n",
    "year_week = re.match(r'^CC-MAIN-(\\d{4}-\\d{2})$', indexes[0]['id']).group(1)\n",
    "datetime.strptime(year_week  + '-6', '%Y-%W-%w')"
   ]
  },
  {
   "cell_type": "code",
   "execution_count": null,
   "id": "e0e11ef3",
   "metadata": {},
   "outputs": [
    {
     "data": {
      "text/plain": [
       "'CC-MAIN-2021-43'"
      ]
     },
     "execution_count": null,
     "metadata": {},
     "output_type": "execute_result"
    }
   ],
   "source": [
    "indexes[0]['id']"
   ]
  },
  {
   "cell_type": "markdown",
   "id": "9b8cc1ec",
   "metadata": {},
   "source": [
    "## Querying CDX"
   ]
  },
  {
   "cell_type": "markdown",
   "id": "6e65eeb1",
   "metadata": {},
   "source": [
    "https://pywb.readthedocs.io/en/latest/manual/cdxserver_api.html\n",
    "\n",
    "http://commoncrawl.org/2015/04/announcing-the-common-crawl-index/"
   ]
  },
  {
   "cell_type": "code",
   "execution_count": null,
   "id": "bdac8493",
   "metadata": {},
   "outputs": [],
   "source": [
    "cc_sample_api = 'https://index.commoncrawl.org/CC-MAIN-2021-43-index'\n",
    "assert cc_sample_api in [i['cdx-api'] for i in indexes]"
   ]
  },
  {
   "cell_type": "markdown",
   "id": "f1c7da86",
   "metadata": {},
   "source": [
    "The Common Crawl CDX is *much slower* than the Wayback Machines.\n",
    "It also uses the zipped CDX by default which automatically paginates."
   ]
  },
  {
   "cell_type": "code",
   "execution_count": null,
   "id": "3de00256",
   "metadata": {},
   "outputs": [],
   "source": [
    "#export\n",
    "import json\n",
    "\n",
    "def jsonl_loads(jsonl):\n",
    "    return [json.loads(line) for line in jsonl.splitlines()]"
   ]
  },
  {
   "cell_type": "code",
   "execution_count": null,
   "id": "7585e1b0",
   "metadata": {},
   "outputs": [],
   "source": [
    "test_jline = b'{\"status\": \"200\", \"mime\": \"text/html\"}\\n{\"status\": \"301\", \"mime\": \"-\"}\\n'\n",
    "test_jdict = [{'status': '200', 'mime': 'text/html'}, {'status': '301', 'mime': '-'}]\n",
    "assert jsonl_loads(test_jline) == test_jdict\n",
    "assert jsonl_loads(test_jline.rstrip()) == test_jdict"
   ]
  },
  {
   "cell_type": "code",
   "execution_count": null,
   "id": "357bc201",
   "metadata": {},
   "outputs": [],
   "source": [
    "#export\n",
    "def query_cc_cdx_num_pages(api: str,  url: str,\n",
    "                           session: Optional[Session] = None) -> int:\n",
    "    if session is None:\n",
    "        session = requests\n",
    "        \n",
    "    response = session.get(api, params={'url': url, 'output': 'json', 'showNumPages': True})\n",
    "    response.raise_for_status()\n",
    "    data = response.json()\n",
    "    return data[\"pages\"]\n",
    "\n",
    "def query_cc_cdx_page(\n",
    "                 api: str, url: str, page: int, \n",
    "                 start: Optional[str] = None, end: Optional[str] = None,\n",
    "                 status_ok: bool = True, mime: Optional[Union[str, Iterable[str]]] = None,\n",
    "                 limit: Optional[int] = None, offset: Optional[int] = None,\n",
    "                 session: Optional[Session] = None) -> List[CaptureIndexRecord]:\n",
    "    \"\"\"Get references to Common Crawl Captures for url.\n",
    "    \n",
    "    Queries the Common Crawl Capture Index (CDX) for url.\n",
    "    \n",
    "    Filters:\n",
    "      * api: API endpoint to use (e.g. 'https://index.commoncrawl.org/CC-MAIN-2021-43-index')\n",
    "      * start: Minimum date in format YYYYmmddHHMMSS (or any substring) inclusive\n",
    "      * end: Maximum date in format YYYYmmddHHMMSS (or any substring) inclusive\n",
    "      * status_ok: Only return those with a HTTP status 200\n",
    "      * mime: Filter on mimetypes, '*' is a wildcard (e.g. 'image/*')\n",
    "      * limit: Only return first limit records\n",
    "      * offset: Skip the first offset records, combine with limit\n",
    "      * session: Session to use when making requests\n",
    "    Filters results between start and end inclusive, in format YYYYmmddHHMMSS or any substring\n",
    "    (e.g. start=\"202001\", end=\"202001\" will get all captures in January 2020)\n",
    "    \"\"\"\n",
    "    if session is None:\n",
    "        session = requests\n",
    "        \n",
    "    params = {'url': url,\n",
    "              'page': page,\n",
    "              'output': 'json',\n",
    "              'page': page,\n",
    "              'from': start,\n",
    "              'to': end,\n",
    "              'limit': limit,\n",
    "              'offset': offset}\n",
    "    \n",
    "    filter = []\n",
    "    if status_ok:\n",
    "        # N.B. Different to IA\n",
    "        filter.append('=status:200')\n",
    "    if mime:\n",
    "        if isinstance(mime, str):\n",
    "            mime = [mime]\n",
    "        # N.B. Different to IA\n",
    "        filter.append(mimetypes_to_regex(mime, prefix='~mime:'))\n",
    "    params['filter'] = filter\n",
    "    \n",
    "    params = {k:v for k,v in params.items() if v}\n",
    "    response = session.get(api, params=params)\n",
    "    response.raise_for_status()\n",
    "    return jsonl_loads(response.content)"
   ]
  },
  {
   "cell_type": "markdown",
   "id": "f6ef7337",
   "metadata": {},
   "source": [
    "### Testing pagination"
   ]
  },
  {
   "cell_type": "code",
   "execution_count": null,
   "id": "46a17d2c",
   "metadata": {},
   "outputs": [],
   "source": [
    "test_url = 'mn.wikipedia.org/*'"
   ]
  },
  {
   "cell_type": "code",
   "execution_count": null,
   "id": "ea2c822e",
   "metadata": {},
   "outputs": [
    {
     "data": {
      "text/plain": [
       "2"
      ]
     },
     "execution_count": null,
     "metadata": {},
     "output_type": "execute_result"
    }
   ],
   "source": [
    "#slow\n",
    "pages = query_cc_cdx_num_pages(cc_sample_api, test_url)\n",
    "pages"
   ]
  },
  {
   "cell_type": "code",
   "execution_count": null,
   "id": "e3c41a3d",
   "metadata": {},
   "outputs": [
    {
     "data": {
      "text/plain": [
       "17384"
      ]
     },
     "execution_count": null,
     "metadata": {},
     "output_type": "execute_result"
    }
   ],
   "source": [
    "#slow\n",
    "records = []\n",
    "for page in range(pages):\n",
    "    records += query_cc_cdx_page(cc_sample_api, test_url, page=page, mime='text/html')\n",
    "len(records)"
   ]
  },
  {
   "cell_type": "code",
   "execution_count": null,
   "id": "dd46cb21",
   "metadata": {},
   "outputs": [
    {
     "data": {
      "text/plain": [
       "('20211015193030', '20211028220724')"
      ]
     },
     "execution_count": null,
     "metadata": {},
     "output_type": "execute_result"
    }
   ],
   "source": [
    "#slow\n",
    "timestamps = [record['timestamp'] for record in records]\n",
    "min(timestamps), max(timestamps)"
   ]
  },
  {
   "cell_type": "markdown",
   "id": "4591a96f",
   "metadata": {},
   "source": [
    "We should get an error querying past the last page (400: Invalid Request)"
   ]
  },
  {
   "cell_type": "code",
   "execution_count": null,
   "id": "d492ea9f",
   "metadata": {},
   "outputs": [],
   "source": [
    "#slow\n",
    "from requests.exceptions import HTTPError\n",
    "\n",
    "try:\n",
    "    query_cc_cdx_page(cc_sample_api, test_url, page=pages, mime='text/html')\n",
    "    raise AssertionError('Expected Failure')\n",
    "except HTTPError as e:\n",
    "    status = e.response.status_code\n",
    "    if status != 400:\n",
    "        raise AssertionError(f'Expected 400, got {status}')"
   ]
  },
  {
   "cell_type": "markdown",
   "id": "497b1f7b",
   "metadata": {},
   "source": [
    "## Downloading"
   ]
  },
  {
   "cell_type": "code",
   "execution_count": null,
   "id": "3850b705",
   "metadata": {},
   "outputs": [],
   "source": [
    "#export\n",
    "from warcio import ArchiveIterator\n",
    "from io import BytesIO\n",
    "\n",
    "CC_DATA_URL = \"https://commoncrawl.s3.amazonaws.com/\"\n",
    "def fetch_cc(filename: str, offset: int, length: int, session: Optional[Session] = None) -> bytes:\n",
    "    if session is None:\n",
    "        session = requests\n",
    "    data_url = CC_DATA_URL + filename\n",
    "    start_byte = int(offset)\n",
    "    end_byte = start_byte + int(length)\n",
    "    headers = {\"Range\": f\"bytes={start_byte}-{end_byte}\"}\n",
    "    r = session.get(data_url, headers=headers)\n",
    "    r.raise_for_status()\n",
    "    \n",
    "    # Decord WARC\n",
    "    response_content = r.content\n",
    "    archive = ArchiveIterator(BytesIO(response_content))\n",
    "    record = next(archive)\n",
    "    content = record.content_stream().read()\n",
    "    \n",
    "    # Archive should have just 1 record\n",
    "    assert not any(True for _ in archive), \"Expected 1 result in archive\"\n",
    "    \n",
    "    return content"
   ]
  },
  {
   "cell_type": "code",
   "execution_count": null,
   "id": "6b27219f",
   "metadata": {},
   "outputs": [
    {
     "data": {
      "text/plain": [
       "{'urlkey': 'org,wikipedia,mn)/wiki/%d0%81%d0%bb',\n",
       " 'timestamp': '20211021123538',\n",
       " 'url': 'https://mn.wikipedia.org/wiki/%D0%81%D0%BB',\n",
       " 'mime': 'text/html',\n",
       " 'mime-detected': 'text/html',\n",
       " 'status': '200',\n",
       " 'digest': 'UI6WL5QOXJAE26GCXG72FDYBINXIHKJA',\n",
       " 'length': '17997',\n",
       " 'offset': '515398132',\n",
       " 'filename': 'crawl-data/CC-MAIN-2021-43/segments/1634323585405.74/warc/CC-MAIN-20211021102435-20211021132435-00353.warc.gz',\n",
       " 'languages': 'mon,eng,srp',\n",
       " 'encoding': 'UTF-8'}"
      ]
     },
     "execution_count": null,
     "metadata": {},
     "output_type": "execute_result"
    }
   ],
   "source": [
    "#slow\n",
    "record = records[0]\n",
    "record"
   ]
  },
  {
   "cell_type": "code",
   "execution_count": null,
   "id": "a92567c3",
   "metadata": {},
   "outputs": [],
   "source": [
    "record = {'urlkey': 'org,wikipedia,en)/?curid=3516101',\n",
    " 'timestamp': '20211024051554',\n",
    " 'url': 'https://en.wikipedia.org/?curid=3516101',\n",
    " 'mime': 'text/html',\n",
    " 'mime-detected': 'text/html',\n",
    " 'status': '200',\n",
    " 'digest': 'TFZFWXWKS3NFJLLLXLYU6JTNZ77D3IVD',\n",
    " 'length': '8922',\n",
    " 'offset': '332329771',\n",
    " 'filename': 'crawl-data/CC-MAIN-2021-43/segments/1634323585911.17/warc/CC-MAIN-20211024050128-20211024080128-00689.warc.gz',\n",
    " 'languages': 'eng',\n",
    " 'encoding': 'UTF-8'}"
   ]
  },
  {
   "cell_type": "code",
   "execution_count": null,
   "id": "c1c6c8b3",
   "metadata": {},
   "outputs": [
    {
     "name": "stdout",
     "output_type": "stream",
     "text": [
      "CPU times: user 27.8 ms, sys: 2.77 ms, total: 30.6 ms\n",
      "Wall time: 1.13 s\n"
     ]
    }
   ],
   "source": [
    "%%time\n",
    "content = fetch_cc(record['filename'], record['offset'], record['length'])"
   ]
  },
  {
   "cell_type": "code",
   "execution_count": null,
   "id": "bc5c239d",
   "metadata": {},
   "outputs": [
    {
     "data": {
      "text/plain": [
       "b'<!DOCTYPE html>\\n<html class=\"client-nojs\" lang=\"en\" dir=\"ltr\">\\n<head>\\n<meta charset=\"UTF-8\"/>\\n<title>Category:Tad Morose albums - Wikipedia</title>\\n<script>document.documentElement.className=\"client-js\";RLCONF={\"wgBreakFrames\":!1,\"wgSeparatorTransformTable\":[\"\",\"\"],\"wgDigitTransformTable\":[\"\",\"\"],\"wgDefaultDateFormat\":\"dmy\",\"wgMonthNames\":[\"\",\"January\",\"February\",\"March\",\"April\",\"May\",\"June\",\"July\",\"August\",\"September\",\"October\",\"November\",\"December\"],\"wgRequestId\":\"362a73a3-175d-4af3-92bb-4707797d6067\",\"wgCSPNonce\":!1,\"wgCanonicalNamespace\":\"Category\",\"wgCanonicalSpecialPageName\":!1,\"wgNamespaceNumber\":14,\"wgPageName\":\"Category:Tad_Morose_albums\",\"wgTitle\":\"Tad Morose albums\",\"wgCurRevisionId\":906041584,\"wgRevisionId\":906041584,\"wgArticleId\":3516101,\"wgIsArticle\":!0,\"wgIsRedirect\":!1,\"wgAction\":\"view\",\"wgUserName\":null,\"wgUserGroups\":[\"*\"],\"wgCategories\":[\"Set categories\",\"Albums by artist\",\"Power metal albums by Swedish artists\"],\"wgPageContentLanguage\":\"en\",\"wgPageContentModel\":\"wik'"
      ]
     },
     "execution_count": null,
     "metadata": {},
     "output_type": "execute_result"
    }
   ],
   "source": [
    "content[:1000]"
   ]
  },
  {
   "cell_type": "markdown",
   "id": "0bae2349",
   "metadata": {},
   "source": [
    "Check the digest"
   ]
  },
  {
   "cell_type": "code",
   "execution_count": null,
   "id": "7bfc0d96",
   "metadata": {},
   "outputs": [],
   "source": [
    "from hashlib import sha1\n",
    "from base64 import b32encode\n",
    "\n",
    "def get_digest(content: bytes) -> str:\n",
    "    return b32encode(sha1(content).digest()).decode('ascii')\n",
    "\n",
    "assert get_digest(content) == record['digest']"
   ]
  },
  {
   "cell_type": "markdown",
   "id": "89e8f533",
   "metadata": {},
   "source": [
    "## Make it go fast"
   ]
  },
  {
   "cell_type": "code",
   "execution_count": null,
   "id": "347b2dd9",
   "metadata": {},
   "outputs": [],
   "source": [
    "#export\n",
    "from joblib import delayed, Memory, Parallel\n",
    "from requests.adapters import HTTPAdapter\n",
    "from requests.packages.urllib3.util.retry import Retry\n",
    "\n",
    "class CommonCrawl:\n",
    "    def __init__(self, location: Optional[str],\n",
    "                 session: Union[bool, Session] = True, threads: int=64, verbose=0) -> None:\n",
    "        self.threads = threads\n",
    "        self.memory = Memory(location, verbose=verbose)\n",
    "        \n",
    "        if session is True:\n",
    "            session = make_session(pool_maxsize=threads)\n",
    "        if not session:\n",
    "            session = None\n",
    "        self.session = session\n",
    "        \n",
    "        self._query_pages = self.memory.cache(query_cc_cdx_num_pages, ignore=['session'])\n",
    "        self._query = self.memory.cache(query_cc_cdx_page, ignore=['session'])\n",
    "        self._fetch = self.memory.cache(fetch_cc, ignore=['session'])\n",
    "    \n",
    "    @property\n",
    "    def cdx_apis(self) -> Dict[str, str]:\n",
    "        return {x['id']: x['cdx-api'] for x in get_cc_indexes()}\n",
    "    \n",
    "    # Note: don't use the default number of threads since we're hitting a single CC API\n",
    "    # Todo several CC APIs\n",
    "    def query(self, api: str, url: str, \n",
    "              start: Optional[str] = None, end: Optional[str] = None,\n",
    "              status_ok: bool = True, mime: Optional[Union[str, Iterable[str]]] = None,\n",
    "              limit: Optional[int] = None, offset: Optional[int] = None, force=False,\n",
    "              threads: int=4) -> List[CaptureIndexRecord]:\n",
    "        # lookup by key\n",
    "        api = self.cdx_apis.get(api, api)\n",
    "        query = self._query.call if force else self._query\n",
    "        \n",
    "        # Wrap this up?\n",
    "        query_pages = self._query_pages.call if force else self._query_pages\n",
    "        num_pages = query_pages(api, url, session=self.session)\n",
    "        num_pages = num_pages[0] if force else num_pages\n",
    "        \n",
    "        pages_results = Parallel(threads, prefer='threads')(delayed(query)(api, url, page, start, end, status_ok, mime, limit, offset, session=self.session) for page in range(num_pages))\n",
    "        if force:\n",
    "            pages_results = [r[0] for r in pages_results]\n",
    "        return [result for page in pages_results for result in page]\n",
    "    \n",
    "    def fetch_one(self, record, force=False) -> bytes:\n",
    "        fetch = self._fetch.call if force else self._fetch\n",
    "        result = fetch(record['filename'], record['offset'], record['length'], session=self.session)\n",
    "        return result[0] if force else result\n",
    "    \n",
    "    def fetch(self, records, force=False, threads=None) -> List[bytes]:\n",
    "        fetch = self._fetch.call if force else self._fetch\n",
    "        result = Parallel(threads or self.threads, prefer='threads')(delayed(self.fetch_one)(record, force) for record in records)\n",
    "        return result"
   ]
  },
  {
   "cell_type": "markdown",
   "id": "705642b8",
   "metadata": {},
   "source": [
    "### Test querying"
   ]
  },
  {
   "cell_type": "code",
   "execution_count": null,
   "id": "0ce6dd00",
   "metadata": {},
   "outputs": [],
   "source": [
    "cc = CommonCrawl(test_cache, verbose=1)"
   ]
  },
  {
   "cell_type": "code",
   "execution_count": null,
   "id": "542325fa",
   "metadata": {},
   "outputs": [
    {
     "name": "stderr",
     "output_type": "stream",
     "text": [
      "WARNING:root:[Memory(location=data/test/cache/joblib)]: Flushing completely the cache\n"
     ]
    }
   ],
   "source": [
    "cc.memory.clear()"
   ]
  },
  {
   "cell_type": "code",
   "execution_count": null,
   "id": "0b93bdb2",
   "metadata": {},
   "outputs": [],
   "source": [
    "assert 'CC-MAIN-2021-43' in cc.cdx_apis"
   ]
  },
  {
   "cell_type": "code",
   "execution_count": null,
   "id": "092181c0",
   "metadata": {},
   "outputs": [
    {
     "name": "stdout",
     "output_type": "stream",
     "text": [
      "________________________________________________________________________________\n",
      "[Memory] Calling __main__--tmp-ipykernel-1284078378.query_cc_cdx_num_pages...\n",
      "query_cc_cdx_num_pages('https://index.commoncrawl.org/CC-MAIN-2021-43-index', 'archive.org/s*', session=<requests.sessions.Session object at 0x7f06a60df910>)\n",
      "___________________________________________query_cc_cdx_num_pages - 0.7s, 0.0min\n",
      "________________________________________________________________________________\n",
      "[Memory] Calling __main__--tmp-ipykernel-1284078378.query_cc_cdx_page...\n",
      "query_cc_cdx_page('https://index.commoncrawl.org/CC-MAIN-2021-43-index', 'archive.org/s*', 1, None, None, False, None, None, None, session=<requests.sessions.Session object at 0x7f06a60df910>)\n",
      "________________________________________________________________________________\n",
      "[Memory] Calling __main__--tmp-ipykernel-1284078378.query_cc_cdx_page...\n",
      "query_cc_cdx_page('https://index.commoncrawl.org/CC-MAIN-2021-43-index', 'archive.org/s*', 0, None, None, False, None, None, None, session=<requests.sessions.Session object at 0x7f06a60df910>)\n",
      "________________________________________________query_cc_cdx_page - 2.9s, 0.0min\n",
      "________________________________________________query_cc_cdx_page - 4.4s, 0.1min\n"
     ]
    },
    {
     "data": {
      "text/plain": [
       "mime             status\n",
       "audio/x-mpegurl  200         80\n",
       "image/jpeg       200        134\n",
       "image/x.djvu     302         26\n",
       "text/html        200       7971\n",
       "                 301       9543\n",
       "                 302       6963\n",
       "                 404        159\n",
       "                 500          5\n",
       "                 502          2\n",
       "                 503          4\n",
       "text/xml         200         20\n",
       "Name: url, dtype: int64"
      ]
     },
     "execution_count": null,
     "metadata": {},
     "output_type": "execute_result"
    }
   ],
   "source": [
    "#slow\n",
    "results = cc.query('CC-MAIN-2021-43', 'archive.org/s*', status_ok=False)\n",
    "\n",
    "\n",
    "pd.DataFrame(results).groupby(['mime', 'status'])['url'].count()"
   ]
  },
  {
   "cell_type": "code",
   "execution_count": null,
   "id": "9805daae",
   "metadata": {},
   "outputs": [],
   "source": [
    "#slow\n",
    "results2 = cc.query('CC-MAIN-2021-43', 'archive.org/s*', status_ok=False)\n",
    "\n",
    "assert results == results2"
   ]
  },
  {
   "cell_type": "code",
   "execution_count": null,
   "id": "a5fb1dd8",
   "metadata": {},
   "outputs": [
    {
     "name": "stdout",
     "output_type": "stream",
     "text": [
      "________________________________________________________________________________\n",
      "[Memory] Calling __main__--tmp-ipykernel-1284078378.query_cc_cdx_num_pages...\n",
      "query_cc_cdx_num_pages('https://index.commoncrawl.org/CC-MAIN-2021-43-index', 'archive.org/s*', session=<requests.sessions.Session object at 0x7f06a60df910>)\n",
      "___________________________________________query_cc_cdx_num_pages - 0.2s, 0.0min\n",
      "________________________________________________________________________________\n",
      "[Memory] Calling __main__--tmp-ipykernel-1284078378.query_cc_cdx_page...\n",
      "query_cc_cdx_page('https://index.commoncrawl.org/CC-MAIN-2021-43-index', 'archive.org/s*', 1, None, None, False, None, None, None, session=<requests.sessions.Session object at 0x7f06a60df910>)\n",
      "________________________________________________________________________________\n",
      "[Memory] Calling __main__--tmp-ipykernel-1284078378.query_cc_cdx_page...\n",
      "query_cc_cdx_page('https://index.commoncrawl.org/CC-MAIN-2021-43-index', 'archive.org/s*', 0, None, None, False, None, None, None, session=<requests.sessions.Session object at 0x7f06a60df910>)\n",
      "________________________________________________query_cc_cdx_page - 2.9s, 0.0min\n",
      "________________________________________________query_cc_cdx_page - 3.8s, 0.1min\n"
     ]
    }
   ],
   "source": [
    "#slow\n",
    "results3 = cc.query('CC-MAIN-2021-43', 'archive.org/s*', status_ok=False, force=True)\n",
    "\n",
    "assert results == results3"
   ]
  },
  {
   "cell_type": "markdown",
   "id": "fd8fcc16",
   "metadata": {},
   "source": [
    "### Test status"
   ]
  },
  {
   "cell_type": "code",
   "execution_count": null,
   "id": "02377e6c",
   "metadata": {},
   "outputs": [
    {
     "name": "stdout",
     "output_type": "stream",
     "text": [
      "________________________________________________________________________________\n",
      "[Memory] Calling __main__--tmp-ipykernel-1284078378.query_cc_cdx_page...\n",
      "query_cc_cdx_page('https://index.commoncrawl.org/CC-MAIN-2021-43-index', 'archive.org/s*', 0, None, None, True, None, None, None, session=<requests.sessions.Session object at 0x7f06a60df910>)\n",
      "________________________________________________________________________________\n",
      "[Memory] Calling __main__--tmp-ipykernel-1284078378.query_cc_cdx_page...\n",
      "query_cc_cdx_page('https://index.commoncrawl.org/CC-MAIN-2021-43-index', 'archive.org/s*', 1, None, None, True, None, None, None, session=<requests.sessions.Session object at 0x7f06a60df910>)\n",
      "________________________________________________query_cc_cdx_page - 0.8s, 0.0min\n",
      "________________________________________________query_cc_cdx_page - 7.6s, 0.1min\n"
     ]
    }
   ],
   "source": [
    "#slow\n",
    "results_ok = cc.query('CC-MAIN-2021-43', 'archive.org/s*', status_ok=True)\n",
    "\n",
    "assert results_ok == [r for r in results if r['status'] == '200']"
   ]
  },
  {
   "cell_type": "markdown",
   "id": "2ae169bb",
   "metadata": {},
   "source": [
    "### Test mimetypes"
   ]
  },
  {
   "cell_type": "code",
   "execution_count": null,
   "id": "b5cc6e93",
   "metadata": {},
   "outputs": [
    {
     "name": "stdout",
     "output_type": "stream",
     "text": [
      "________________________________________________________________________________\n",
      "[Memory] Calling __main__--tmp-ipykernel-1284078378.query_cc_cdx_page...\n",
      "query_cc_cdx_page('https://index.commoncrawl.org/CC-MAIN-2021-43-index', 'archive.org/s*', 0, None, None, False, 'text/html', None, None, session=<requests.sessions.Session object at 0x7f06a60df910>)\n",
      "________________________________________________________________________________\n",
      "[Memory] Calling __main__--tmp-ipykernel-1284078378.query_cc_cdx_page...\n",
      "query_cc_cdx_page('https://index.commoncrawl.org/CC-MAIN-2021-43-index', 'archive.org/s*', 1, None, None, False, 'text/html', None, None, session=<requests.sessions.Session object at 0x7f06a60df910>)\n",
      "_______________________________________________query_cc_cdx_page - 12.4s, 0.2min\n",
      "_______________________________________________query_cc_cdx_page - 27.3s, 0.5min\n"
     ]
    }
   ],
   "source": [
    "#slow\n",
    "results_html = cc.query('CC-MAIN-2021-43', 'archive.org/s*', mime='text/html', status_ok=False)\n",
    "\n",
    "assert results_html == [r for r in results if r['mime'] == 'text/html']"
   ]
  },
  {
   "cell_type": "code",
   "execution_count": null,
   "id": "647308d1",
   "metadata": {},
   "outputs": [
    {
     "name": "stdout",
     "output_type": "stream",
     "text": [
      "________________________________________________________________________________\n",
      "[Memory] Calling __main__--tmp-ipykernel-1284078378.query_cc_cdx_page...\n",
      "query_cc_cdx_page('https://index.commoncrawl.org/CC-MAIN-2021-43-index', 'archive.org/s*', 0, None, None, False, ['audio/x-mpegurl', 'image/x.djvu', 'text/xml'], None, None, session=<requests.sessions.Session object at 0x7f06a60df910>)\n",
      "________________________________________________________________________________\n",
      "[Memory] Calling __main__--tmp-ipykernel-1284078378.query_cc_cdx_page...\n",
      "query_cc_cdx_page('https://index.commoncrawl.org/CC-MAIN-2021-43-index', 'archive.org/s*', 1, None, None, False, ['audio/x-mpegurl', 'image/x.djvu', 'text/xml'], None, None, session=<requests.sessions.Session object at 0x7f06a60df910>)\n",
      "________________________________________________query_cc_cdx_page - 4.6s, 0.1min\n",
      "________________________________________________query_cc_cdx_page - 8.6s, 0.1min\n"
     ]
    }
   ],
   "source": [
    "#slow\n",
    "mimes = ['audio/x-mpegurl', 'image/x.djvu', 'text/xml']\n",
    "results_mime = cc.query('CC-MAIN-2021-43', 'archive.org/s*', mime=mimes, status_ok=False)\n",
    "\n",
    "assert results_mime == [r for r in results if r['mime'] in mimes]"
   ]
  },
  {
   "cell_type": "code",
   "execution_count": null,
   "id": "b9d1fe10",
   "metadata": {},
   "outputs": [
    {
     "name": "stdout",
     "output_type": "stream",
     "text": [
      "________________________________________________________________________________\n",
      "[Memory] Calling __main__--tmp-ipykernel-1284078378.query_cc_cdx_page...\n",
      "query_cc_cdx_page('https://index.commoncrawl.org/CC-MAIN-2021-43-index', 'archive.org/s*', 0, None, None, False, 'image/*', None, None, session=<requests.sessions.Session object at 0x7f06a60df910>)\n",
      "________________________________________________________________________________\n",
      "[Memory] Calling __main__--tmp-ipykernel-1284078378.query_cc_cdx_page...\n",
      "query_cc_cdx_page('https://index.commoncrawl.org/CC-MAIN-2021-43-index', 'archive.org/s*', 1, None, None, False, 'image/*', None, None, session=<requests.sessions.Session object at 0x7f06a60df910>)\n",
      "________________________________________________query_cc_cdx_page - 5.1s, 0.1min\n",
      "________________________________________________query_cc_cdx_page - 7.1s, 0.1min\n"
     ]
    }
   ],
   "source": [
    "#slow\n",
    "results_image = cc.query('CC-MAIN-2021-43', 'archive.org/s*', mime='image/*', status_ok=False)\n",
    "\n",
    "assert results_image == [r for r in results if r['mime'].startswith('image/')]"
   ]
  },
  {
   "cell_type": "markdown",
   "id": "cad8a7bc",
   "metadata": {},
   "source": [
    "### Check fetching"
   ]
  },
  {
   "cell_type": "code",
   "execution_count": null,
   "id": "c5214b61",
   "metadata": {},
   "outputs": [],
   "source": [
    "cc = CommonCrawl(test_cache)"
   ]
  },
  {
   "cell_type": "code",
   "execution_count": null,
   "id": "f9e5aff7",
   "metadata": {},
   "outputs": [],
   "source": [
    "result = {'urlkey': 'com,skeptric)/',\n",
    " 'timestamp': '20211028110756',\n",
    " 'url': 'https://skeptric.com/',\n",
    " 'mime': 'text/html',\n",
    " 'mime-detected': 'text/html',\n",
    " 'status': '200',\n",
    " 'digest': '7RBLUZ55MD4FUPDRPVVJVTM7YDYQXRS3',\n",
    " 'length': '107238',\n",
    " 'offset': '650789450',\n",
    " 'filename': 'crawl-data/CC-MAIN-2021-43/segments/1634323588284.71/warc/CC-MAIN-20211028100619-20211028130619-00465.warc.gz',\n",
    " 'languages': 'eng',\n",
    " 'encoding': 'UTF-8'}"
   ]
  },
  {
   "cell_type": "code",
   "execution_count": null,
   "id": "e82da182",
   "metadata": {},
   "outputs": [],
   "source": [
    "contents = cc.fetch([result])\n",
    "content = cc.fetch_one(result)\n",
    "assert len(contents) == 1\n",
    "assert content == contents[0]"
   ]
  }
 ],
 "metadata": {
  "kernelspec": {
   "display_name": "Python 3 (ipykernel)",
   "language": "python",
   "name": "python3"
  }
 },
 "nbformat": 4,
 "nbformat_minor": 5
}
