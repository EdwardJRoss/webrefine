{
 "cells": [
  {
   "cell_type": "code",
   "execution_count": 1,
   "id": "ed0d3b64",
   "metadata": {},
   "outputs": [],
   "source": [
    "%load_ext autoreload\n",
    "%autoreload 2"
   ]
  },
  {
   "cell_type": "code",
   "execution_count": 2,
   "id": "7a2487a3",
   "metadata": {},
   "outputs": [],
   "source": [
    "# default_exp runners"
   ]
  },
  {
   "cell_type": "markdown",
   "id": "94a27398",
   "metadata": {},
   "source": [
    "# Process"
   ]
  },
  {
   "cell_type": "code",
   "execution_count": 3,
   "id": "67ccd133",
   "metadata": {},
   "outputs": [],
   "source": [
    "# export\n",
    "from __future__ import annotations\n",
    "from dataclasses import dataclass\n",
    "from typing import Callable\n",
    "\n"
   ]
  },
  {
   "cell_type": "code",
   "execution_count": 4,
   "id": "49a49d3c",
   "metadata": {},
   "outputs": [],
   "source": [
    "# export\n",
    "import logging\n",
    "from tqdm.auto import tqdm\n",
    "\n",
    "@dataclass\n",
    "class Process:\n",
    "    queries: list[Callable]\n",
    "    steps: list[Callable]\n",
    "    filter: Callable"
   ]
  },
  {
   "cell_type": "markdown",
   "id": "0e0cd201",
   "metadata": {},
   "source": [
    "# Simple in Memory Runner"
   ]
  },
  {
   "cell_type": "code",
   "execution_count": 5,
   "id": "ef7b38b2",
   "metadata": {},
   "outputs": [],
   "source": [
    "# export\n",
    "\n",
    "class RunnerMemory():\n",
    "    def __init__(self, process: Process, progress_bar: bool = True):\n",
    "        self.process = process\n",
    "        self.progress_bar = progress_bar\n",
    "        \n",
    "    def query(self):\n",
    "        for query in tqdm(self.process.queries, desc='query', disable=not self.progress_bar):\n",
    "            for record in query.query():\n",
    "                yield record\n",
    "\n",
    "    def prepare(self, records):\n",
    "        return self.process.filter(tqdm(records, desc='filter', disable=not self.progress_bar))\n",
    "\n",
    "    def fetch(self, records):\n",
    "        for record in tqdm(records, desc='fetch', disable=not self.progress_bar):\n",
    "            yield (record.content, record)\n",
    "\n",
    "    def transform(self, content_records):\n",
    "        for content, record in tqdm(content_records, desc='transform', disable=not self.progress_bar):\n",
    "            error = False\n",
    "            for step in self.process.steps:\n",
    "                try:\n",
    "                    content = step(content, record)\n",
    "                except Exception as e:\n",
    "                    error = True\n",
    "                    logging.error('Error processing %s at step %s: %s' % (record, step.__name__, e))\n",
    "                    break\n",
    "            if not error:\n",
    "                yield content\n",
    "\n",
    "    def run(self):\n",
    "        records = self.prepare(self.query())\n",
    "        content_records = self.fetch(records)\n",
    "        return self.transform(content_records) "
   ]
  },
  {
   "cell_type": "code",
   "execution_count": 6,
   "id": "e789b6e3",
   "metadata": {},
   "outputs": [],
   "source": [
    "# export\n",
    "import itertools\n",
    "from pathlib import Path\n",
    "from sqlitedict import SqliteDict\n",
    "\n",
    "class RunnerCached():\n",
    "    def __init__(self, process: Process, path: Union[str, Path], progress_bar: bool = True):\n",
    "        self.process = process\n",
    "        self.progress_bar = progress_bar\n",
    "        \n",
    "        self.path = Path(path)\n",
    "        \n",
    "        self._query = SqliteDict(path, tablename='query', autocommit=True)\n",
    "        self._fetch = SqliteDict(path, tablename='fetch', autocommit=False)\n",
    "        \n",
    "    def query(self):\n",
    "        # TODO: Don't cache WaybackQuery or FileQuery\n",
    "        for query in tqdm(self.process.queries, desc='query', disable=not self.progress_bar):\n",
    "            key = repr(query)\n",
    "            if key not in self._query:\n",
    "                self._query[key] = list(query.query())\n",
    "                \n",
    "        # TODO: Merge\n",
    "        for query in self.process.queries:\n",
    "            for record in self._query[key]:\n",
    "                yield record\n",
    "                \n",
    "    def prepare(self, records):\n",
    "        return self.process.filter(tqdm(records, desc='filter', disable=not self.progress_bar))\n",
    "\n",
    "    def fetch(self, records):\n",
    "        records = list(records)\n",
    "        unfetched_records = [r for r in records if r.digest not in self._fetch]\n",
    "        \n",
    "        with tqdm(total=len(unfetched_records), desc='fetch') as pbar:\n",
    "            for cls, record_group in itertools.groupby(unfetched_records, key=type):\n",
    "                record_group = list(record_group)\n",
    "                for content, record in zip(cls.fetch_parallel(record_group, callback=lambda r, c: pbar.update(1)), record_group):\n",
    "                    assert record.digest is not None\n",
    "                    self._fetch[record.digest] = content\n",
    "                self._fetch.commit()\n",
    "\n",
    "        for record in records:\n",
    "            yield (self._fetch[record.digest], record)\n",
    "                \n",
    "\n",
    "    def transform(self, content_records):\n",
    "        for content, record in tqdm(content_records, desc='transform', disable=not self.progress_bar):\n",
    "            error = False\n",
    "            for step in self.process.steps:\n",
    "                try:\n",
    "                    content = step(content, record)\n",
    "                except Exception as e:\n",
    "                    error = True\n",
    "                    logging.error('Error processing %s at step %s: %s' % (record, step.__name__, e))\n",
    "                    break\n",
    "            if not error:\n",
    "                yield content\n",
    "\n",
    "    def run(self):\n",
    "        records = self.prepare(self.query())\n",
    "        content_records = self.fetch(records)\n",
    "        return self.transform(content_records) "
   ]
  },
  {
   "cell_type": "markdown",
   "id": "5d7cff28",
   "metadata": {},
   "source": [
    "## Simple test process"
   ]
  },
  {
   "cell_type": "markdown",
   "id": "d7f48e96",
   "metadata": {},
   "source": [
    "In practice we'd use a something like parsel, beautifulsoup or selectolax.\n",
    "However for a simple demo this has no external dependencies."
   ]
  },
  {
   "cell_type": "code",
   "execution_count": 7,
   "id": "14be7a72",
   "metadata": {},
   "outputs": [],
   "source": [
    "from html.parser import HTMLParser\n",
    "\n",
    "class SkeptricHTMLParser(HTMLParser):\n",
    "    def __init__(self):\n",
    "        super().__init__()\n",
    "        self.extract = {}\n",
    "        self.field = None\n",
    "        \n",
    "    def handle_starttag(self, tag, attrs):\n",
    "        if dict(attrs).get('class') == 'post-full-title':\n",
    "            self.field = 'title'\n",
    "        if dict(attrs).get('class') == 'byline-meta-date':\n",
    "            self.field = 'date'\n",
    "\n",
    "    def handle_endtag(self, tag):\n",
    "        self.field = None\n",
    "\n",
    "    def handle_data(self, data):\n",
    "        if self.field is not None:\n",
    "            self.extract[self.field] = data\n",
    "\n",
    "def skeptric_filter(records):\n",
    "    for r in records:\n",
    "        if r.mime == 'text/html' and r.status == 200:\n",
    "            yield r\n",
    "        \n",
    "def skeptric_extract(content, metadata):\n",
    "    parser = SkeptricHTMLParser()\n",
    "    html = content.decode('utf-8')\n",
    "    parser.feed(html)\n",
    "    data = parser.extract\n",
    "    data['url'] = metadata.url\n",
    "    data['timestamp'] = metadata.timestamp\n",
    "    return data\n",
    "\n",
    "def skeptric_verify_extract(content, metadata):\n",
    "    if not content.get('title'):\n",
    "        raise ValueError('Missing title')\n",
    "    if not content.get('date'):\n",
    "        raise ValueError('Missing date')\n",
    "    return content\n",
    "\n",
    "from datetime import datetime\n",
    "def skeptric_normalise(content, metadata):\n",
    "    content = content.copy()\n",
    "    content['date'] = datetime.strptime(content['date'], '%d %B %Y')\n",
    "    return content\n",
    "\n",
    "from webrefine.query import WarcFileQuery\n",
    "test_data = '../resources/test/skeptric.warc.gz'\n",
    "\n",
    "skeptric_query = WarcFileQuery(test_data)"
   ]
  },
  {
   "cell_type": "markdown",
   "id": "987498ca",
   "metadata": {},
   "source": [
    "# Test Memory Runner"
   ]
  },
  {
   "cell_type": "code",
   "execution_count": 8,
   "id": "7bf1a9dc",
   "metadata": {},
   "outputs": [],
   "source": [
    "skeptric_process = Process(queries=[skeptric_query],\n",
    "                     filter=skeptric_filter,\n",
    "                     steps=[skeptric_extract, skeptric_verify_extract, skeptric_normalise])"
   ]
  },
  {
   "cell_type": "code",
   "execution_count": 9,
   "id": "ccba7eeb",
   "metadata": {},
   "outputs": [
    {
     "data": {
      "application/vnd.jupyter.widget-view+json": {
       "model_id": "3861617eb0064b20947c854d65a14f25",
       "version_major": 2,
       "version_minor": 0
      },
      "text/plain": [
       "filter: 0it [00:00, ?it/s]"
      ]
     },
     "metadata": {},
     "output_type": "display_data"
    },
    {
     "data": {
      "application/vnd.jupyter.widget-view+json": {
       "model_id": "d2f6d0e621bb42dc8b52770ada3cd346",
       "version_major": 2,
       "version_minor": 0
      },
      "text/plain": [
       "transform: 0it [00:00, ?it/s]"
      ]
     },
     "metadata": {},
     "output_type": "display_data"
    },
    {
     "data": {
      "application/vnd.jupyter.widget-view+json": {
       "model_id": "aaef11400ed14e93a675abebbdd54130",
       "version_major": 2,
       "version_minor": 0
      },
      "text/plain": [
       "fetch: 0it [00:00, ?it/s]"
      ]
     },
     "metadata": {},
     "output_type": "display_data"
    },
    {
     "data": {
      "application/vnd.jupyter.widget-view+json": {
       "model_id": "56de96efcfb04214a43a343e0cc04ac7",
       "version_major": 2,
       "version_minor": 0
      },
      "text/plain": [
       "query:   0%|          | 0/1 [00:00<?, ?it/s]"
      ]
     },
     "metadata": {},
     "output_type": "display_data"
    },
    {
     "name": "stderr",
     "output_type": "stream",
     "text": [
      "ERROR:root:Error processing WarcFileRecord(url='https://skeptric.com/', timestamp=datetime.datetime(2021, 11, 26, 11, 28, 36), mime='text/html', status=200, path=PosixPath('../resources/test/skeptric.warc.gz'), offset=17122, digest='JJVB3MQERHRZJCHOJNKS5VDOODXPZAV2') at step skeptric_verify_extract: Missing title\n",
      "ERROR:root:Error processing WarcFileRecord(url='https://skeptric.com/tags/data/', timestamp=datetime.datetime(2021, 11, 26, 11, 28, 38), mime='text/html', status=200, path=PosixPath('../resources/test/skeptric.warc.gz'), offset=130269, digest='R7CLAACFU5L7T5LKI5G53RZSMCNUNV6F') at step skeptric_verify_extract: Missing title\n"
     ]
    },
    {
     "data": {
      "text/plain": [
       "[{'title': \"Pagination in Internet Archive's Wayback Machine with CDX\",\n",
       "  'date': datetime.datetime(2021, 11, 23, 0, 0),\n",
       "  'url': 'https://skeptric.com/pagination-wayback-cdx/',\n",
       "  'timestamp': datetime.datetime(2021, 11, 26, 11, 28, 34)},\n",
       " {'title': 'About Skeptric',\n",
       "  'date': datetime.datetime(2021, 10, 18, 0, 0),\n",
       "  'url': 'https://skeptric.com/about/',\n",
       "  'timestamp': datetime.datetime(2021, 11, 26, 11, 28, 37)},\n",
       " {'title': 'Searching 100 Billion Webpages Pages With Capture Index',\n",
       "  'date': datetime.datetime(2020, 6, 11, 0, 0),\n",
       "  'url': 'https://skeptric.com/searching-100b-pages-cdx/',\n",
       "  'timestamp': datetime.datetime(2021, 11, 26, 11, 28, 39)},\n",
       " {'title': 'Fast Web Dataset Extraction Worfklow',\n",
       "  'date': datetime.datetime(2021, 11, 21, 0, 0),\n",
       "  'url': 'https://skeptric.com/fast-web-data-workflow/',\n",
       "  'timestamp': datetime.datetime(2021, 11, 26, 11, 28, 39)},\n",
       " {'title': 'Unique Key for Web Captures',\n",
       "  'date': datetime.datetime(2021, 11, 19, 0, 0),\n",
       "  'url': 'https://skeptric.com/key-web-captures/',\n",
       "  'timestamp': datetime.datetime(2021, 11, 26, 11, 28, 40)},\n",
       " {'title': 'Hugo Readdir Error with Emacs',\n",
       "  'date': datetime.datetime(2021, 11, 22, 0, 0),\n",
       "  'url': 'https://skeptric.com/emacs-tempfile-hugo/',\n",
       "  'timestamp': datetime.datetime(2021, 11, 26, 11, 28, 40)}]"
      ]
     },
     "execution_count": 9,
     "metadata": {},
     "output_type": "execute_result"
    }
   ],
   "source": [
    "data = list(RunnerMemory(skeptric_process).run())\n",
    "data"
   ]
  },
  {
   "cell_type": "markdown",
   "id": "74cc04ed",
   "metadata": {},
   "source": [
    "We can always look up an error\n",
    "\n",
    "Would be nicer if everything was a string so we didn't have to handle the imports..."
   ]
  },
  {
   "cell_type": "code",
   "execution_count": 10,
   "id": "bfc4cd45",
   "metadata": {},
   "outputs": [
    {
     "data": {
      "text/plain": [
       "WarcFileRecord(url='https://skeptric.com/', timestamp=datetime.datetime(2021, 11, 26, 11, 28, 36), mime='text/html', status=200, path=PosixPath('../resources/test/skeptric.warc.gz'), offset=17122, digest='JJVB3MQERHRZJCHOJNKS5VDOODXPZAV2')"
      ]
     },
     "execution_count": 10,
     "metadata": {},
     "output_type": "execute_result"
    }
   ],
   "source": [
    "from webrefine.query import WarcFileRecord\n",
    "from pathlib import PosixPath\n",
    "WarcFileRecord(url='https://skeptric.com/', timestamp=datetime(2021, 11, 26, 11, 28, 36), mime='text/html', status=200, path=PosixPath('../resources/test/skeptric.warc.gz'), offset=17122, digest='JJVB3MQERHRZJCHOJNKS5VDOODXPZAV2')"
   ]
  },
  {
   "cell_type": "markdown",
   "id": "5f3b8f62",
   "metadata": {},
   "source": [
    "# Test Persistent Runner"
   ]
  },
  {
   "cell_type": "code",
   "execution_count": 11,
   "id": "567f9fa7",
   "metadata": {},
   "outputs": [
    {
     "data": {
      "application/vnd.jupyter.widget-view+json": {
       "model_id": "aad1e47c945246658836f11b61f283ee",
       "version_major": 2,
       "version_minor": 0
      },
      "text/plain": [
       "filter: 0it [00:00, ?it/s]"
      ]
     },
     "metadata": {},
     "output_type": "display_data"
    },
    {
     "data": {
      "application/vnd.jupyter.widget-view+json": {
       "model_id": "545738986b474384bb9a3769ff91687b",
       "version_major": 2,
       "version_minor": 0
      },
      "text/plain": [
       "transform: 0it [00:00, ?it/s]"
      ]
     },
     "metadata": {},
     "output_type": "display_data"
    },
    {
     "data": {
      "application/vnd.jupyter.widget-view+json": {
       "model_id": "3c912374a9d04bf482b37e2dc4418df8",
       "version_major": 2,
       "version_minor": 0
      },
      "text/plain": [
       "query:   0%|          | 0/1 [00:00<?, ?it/s]"
      ]
     },
     "metadata": {},
     "output_type": "display_data"
    },
    {
     "data": {
      "application/vnd.jupyter.widget-view+json": {
       "model_id": "b7301a2cbc7347458cc975e19644cb3a",
       "version_major": 2,
       "version_minor": 0
      },
      "text/plain": [
       "fetch:   0%|          | 0/8 [00:00<?, ?it/s]"
      ]
     },
     "metadata": {},
     "output_type": "display_data"
    },
    {
     "name": "stderr",
     "output_type": "stream",
     "text": [
      "ERROR:root:Error processing WarcFileRecord(url='https://skeptric.com/', timestamp=datetime.datetime(2021, 11, 26, 11, 28, 36), mime='text/html', status=200, path=PosixPath('../resources/test/skeptric.warc.gz'), offset=17122, digest='JJVB3MQERHRZJCHOJNKS5VDOODXPZAV2') at step skeptric_verify_extract: Missing title\n",
      "ERROR:root:Error processing WarcFileRecord(url='https://skeptric.com/tags/data/', timestamp=datetime.datetime(2021, 11, 26, 11, 28, 38), mime='text/html', status=200, path=PosixPath('../resources/test/skeptric.warc.gz'), offset=130269, digest='R7CLAACFU5L7T5LKI5G53RZSMCNUNV6F') at step skeptric_verify_extract: Missing title\n"
     ]
    },
    {
     "name": "stdout",
     "output_type": "stream",
     "text": [
      "CPU times: user 716 ms, sys: 33 ms, total: 749 ms\n",
      "Wall time: 732 ms\n"
     ]
    }
   ],
   "source": [
    "%%time\n",
    "from pathlib import Path\n",
    "test_cache_path = Path('./test_skeptric_cache.sqlite')\n",
    "\n",
    "if test_cache_path.exists():\n",
    "    test_cache_path.unlink()\n",
    "\n",
    "data_cached = list(RunnerCached(skeptric_process, test_cache_path).run())"
   ]
  },
  {
   "cell_type": "code",
   "execution_count": 12,
   "id": "06a1fa98",
   "metadata": {},
   "outputs": [],
   "source": [
    "assert data_cached == data"
   ]
  },
  {
   "cell_type": "code",
   "execution_count": 13,
   "id": "be72224b",
   "metadata": {},
   "outputs": [],
   "source": [
    "#slow\n",
    "from webrefine.query import CommonCrawlQuery, WaybackQuery\n",
    "from datetime import datetime\n",
    "\n",
    "skeptric_cc = CommonCrawlQuery('skeptric.com/*', apis=['CC-MAIN-2021-43'])\n",
    "\n",
    "skeptric_wb = WaybackQuery('skeptric.com/*', start='202103', end='202111')\n",
    "\n",
    "def skeptric_filter_strict(records):\n",
    "    for r in records:\n",
    "        if r.mime != 'text/html' or r.status != 200:\n",
    "            continue\n",
    "        if '/tags/' in r.url or '/notebooks/' in r.url or r.url.endswith('skeptric.com/'):\n",
    "            continue\n",
    "        yield r\n",
    "\n",
    "skeptric_process_all = Process(queries=[skeptric_query, skeptric_cc, skeptric_wb],\n",
    "                     filter=skeptric_filter_strict,\n",
    "                     steps=[skeptric_extract, skeptric_verify_extract, skeptric_normalise])"
   ]
  },
  {
   "cell_type": "markdown",
   "id": "a7eae9d7",
   "metadata": {},
   "source": [
    "The cached runner has to evaluate everything the first time and so is slow.\n",
    "\n",
    "TODO: We need to fix the fetch progress bar (callbacks?)"
   ]
  },
  {
   "cell_type": "code",
   "execution_count": 16,
   "id": "f62b9777",
   "metadata": {},
   "outputs": [
    {
     "data": {
      "application/vnd.jupyter.widget-view+json": {
       "model_id": "f7bda9ef1edf4fc8acbc38e005bf3c10",
       "version_major": 2,
       "version_minor": 0
      },
      "text/plain": [
       "filter: 0it [00:00, ?it/s]"
      ]
     },
     "metadata": {},
     "output_type": "display_data"
    },
    {
     "data": {
      "application/vnd.jupyter.widget-view+json": {
       "model_id": "799956d37ace42738832bf72ea7eed9e",
       "version_major": 2,
       "version_minor": 0
      },
      "text/plain": [
       "transform: 0it [00:00, ?it/s]"
      ]
     },
     "metadata": {},
     "output_type": "display_data"
    },
    {
     "data": {
      "application/vnd.jupyter.widget-view+json": {
       "model_id": "38c22804543f444ea5b48394ad90d898",
       "version_major": 2,
       "version_minor": 0
      },
      "text/plain": [
       "query:   0%|          | 0/3 [00:00<?, ?it/s]"
      ]
     },
     "metadata": {},
     "output_type": "display_data"
    },
    {
     "data": {
      "application/vnd.jupyter.widget-view+json": {
       "model_id": "27d1e2742c064f16bd9caebb7a9806a0",
       "version_major": 2,
       "version_minor": 0
      },
      "text/plain": [
       "fetch:   0%|          | 0/882 [00:00<?, ?it/s]"
      ]
     },
     "metadata": {},
     "output_type": "display_data"
    },
    {
     "name": "stdout",
     "output_type": "stream",
     "text": [
      "CPU times: user 20.2 s, sys: 1.44 s, total: 21.6 s\n",
      "Wall time: 1min 2s\n"
     ]
    },
    {
     "data": {
      "text/plain": [
       "882"
      ]
     },
     "execution_count": 16,
     "metadata": {},
     "output_type": "execute_result"
    }
   ],
   "source": [
    "# slow\n",
    "%time data_all = list(RunnerCached(skeptric_process_all, test_cache_path).run())\n",
    "len(data_all)"
   ]
  },
  {
   "cell_type": "markdown",
   "id": "1bd15e04",
   "metadata": {},
   "source": [
    "Cache size in MB"
   ]
  },
  {
   "cell_type": "code",
   "execution_count": 17,
   "id": "f2677613",
   "metadata": {},
   "outputs": [
    {
     "data": {
      "text/plain": [
       "5.3046875"
      ]
     },
     "execution_count": 17,
     "metadata": {},
     "output_type": "execute_result"
    }
   ],
   "source": [
    "test_cache_path.stat().st_size / 1024**2"
   ]
  },
  {
   "cell_type": "markdown",
   "id": "5bfac23f",
   "metadata": {},
   "source": [
    "It runs much faster the second time"
   ]
  },
  {
   "cell_type": "code",
   "execution_count": 18,
   "id": "c4075803",
   "metadata": {},
   "outputs": [
    {
     "data": {
      "application/vnd.jupyter.widget-view+json": {
       "model_id": "fd4f97f26a994b4796098ccb80bfe8ce",
       "version_major": 2,
       "version_minor": 0
      },
      "text/plain": [
       "filter: 0it [00:00, ?it/s]"
      ]
     },
     "metadata": {},
     "output_type": "display_data"
    },
    {
     "data": {
      "application/vnd.jupyter.widget-view+json": {
       "model_id": "757aacd8c9da4fcdb1286c68a646398a",
       "version_major": 2,
       "version_minor": 0
      },
      "text/plain": [
       "transform: 0it [00:00, ?it/s]"
      ]
     },
     "metadata": {},
     "output_type": "display_data"
    },
    {
     "data": {
      "application/vnd.jupyter.widget-view+json": {
       "model_id": "421f6a77994540bfa5480ec433ec39dc",
       "version_major": 2,
       "version_minor": 0
      },
      "text/plain": [
       "query:   0%|          | 0/3 [00:00<?, ?it/s]"
      ]
     },
     "metadata": {},
     "output_type": "display_data"
    },
    {
     "data": {
      "application/vnd.jupyter.widget-view+json": {
       "model_id": "c069ba5784284fee97dc6e5bd7f71583",
       "version_major": 2,
       "version_minor": 0
      },
      "text/plain": [
       "fetch: 0it [00:00, ?it/s]"
      ]
     },
     "metadata": {},
     "output_type": "display_data"
    },
    {
     "name": "stdout",
     "output_type": "stream",
     "text": [
      "CPU times: user 10.4 s, sys: 342 ms, total: 10.7 s\n",
      "Wall time: 10.6 s\n"
     ]
    }
   ],
   "source": [
    "# slow\n",
    "%time data_all_2 = list(RunnerCached(skeptric_process_all, test_cache_path).run())\n",
    "assert data_all == data_all_2"
   ]
  },
  {
   "cell_type": "code",
   "execution_count": null,
   "id": "947d163d",
   "metadata": {},
   "outputs": [],
   "source": [
    "test_cache_path.unlink()"
   ]
  }
 ],
 "metadata": {
  "kernelspec": {
   "display_name": "Python 3 (ipykernel)",
   "language": "python",
   "name": "python3"
  },
  "language_info": {
   "codemirror_mode": {
    "name": "ipython",
    "version": 3
   },
   "file_extension": ".py",
   "mimetype": "text/x-python",
   "name": "python",
   "nbconvert_exporter": "python",
   "pygments_lexer": "ipython3",
   "version": "3.8.10"
  },
  "toc": {
   "base_numbering": 1,
   "nav_menu": {},
   "number_sections": true,
   "sideBar": true,
   "skip_h1_title": false,
   "title_cell": "Table of Contents",
   "title_sidebar": "Contents",
   "toc_cell": false,
   "toc_position": {},
   "toc_section_display": true,
   "toc_window_display": false
  }
 },
 "nbformat": 4,
 "nbformat_minor": 5
}
