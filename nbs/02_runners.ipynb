{
 "cells": [
  {
   "cell_type": "code",
   "execution_count": 1,
   "id": "ed0d3b64",
   "metadata": {},
   "outputs": [],
   "source": [
    "%load_ext autoreload\n",
    "%autoreload 2"
   ]
  },
  {
   "cell_type": "code",
   "execution_count": 2,
   "id": "7a2487a3",
   "metadata": {},
   "outputs": [],
   "source": [
    "# default_exp runners"
   ]
  },
  {
   "cell_type": "markdown",
   "id": "94a27398",
   "metadata": {},
   "source": [
    "# Process"
   ]
  },
  {
   "cell_type": "code",
   "execution_count": 3,
   "id": "67ccd133",
   "metadata": {},
   "outputs": [],
   "source": [
    "# export\n",
    "from __future__ import annotations\n",
    "from dataclasses import dataclass\n",
    "from typing import Callable\n",
    "\n"
   ]
  },
  {
   "cell_type": "code",
   "execution_count": 4,
   "id": "49a49d3c",
   "metadata": {},
   "outputs": [],
   "source": [
    "# export\n",
    "import logging\n",
    "from tqdm.auto import tqdm\n",
    "\n",
    "@dataclass\n",
    "class Process:\n",
    "    queries: list[Callable]\n",
    "    steps: list[Callable]\n",
    "    filter: Callable"
   ]
  },
  {
   "cell_type": "markdown",
   "id": "0e0cd201",
   "metadata": {},
   "source": [
    "# Simple in Memory Runner"
   ]
  },
  {
   "cell_type": "code",
   "execution_count": 5,
   "id": "ef7b38b2",
   "metadata": {},
   "outputs": [],
   "source": [
    "# export\n",
    "\n",
    "class RunnerMemory():\n",
    "    def __init__(self, process: Process, progress_bar: bool = True):\n",
    "        self.process = process\n",
    "        self.progress_bar = progress_bar\n",
    "        \n",
    "    def query(self):\n",
    "        for query in tqdm(self.process.queries, desc='query', disable=not self.progress_bar):\n",
    "            for record in query.query():\n",
    "                yield record\n",
    "\n",
    "    def prepare(self, records):\n",
    "        return self.process.filter(tqdm(records, desc='filter', disable=not self.progress_bar))\n",
    "\n",
    "    def fetch(self, records):\n",
    "        for record in tqdm(records, desc='fetch', disable=not self.progress_bar):\n",
    "            yield (record.content, record)\n",
    "\n",
    "    def transform(self, content_records):\n",
    "        for content, record in tqdm(content_records, desc='transform', disable=not self.progress_bar):\n",
    "            error = False\n",
    "            for step in self.process.steps:\n",
    "                try:\n",
    "                    content = step(content, record)\n",
    "                except Exception as e:\n",
    "                    error = True\n",
    "                    logging.error('Error processing %s at step %s: %s' % (record, step.__name__, e))\n",
    "                    break\n",
    "            if not error:\n",
    "                yield content\n",
    "\n",
    "    def run(self):\n",
    "        records = self.prepare(self.query())\n",
    "        content_records = self.fetch(records)\n",
    "        return self.transform(content_records) "
   ]
  },
  {
   "cell_type": "markdown",
   "id": "0bb0098a",
   "metadata": {},
   "source": [
    "Minibatch : too small leads to time overhead on setting up connections, too large can lead to memory issues."
   ]
  },
  {
   "cell_type": "code",
   "execution_count": 62,
   "id": "e789b6e3",
   "metadata": {},
   "outputs": [],
   "source": [
    "# export\n",
    "import itertools\n",
    "from pathlib import Path\n",
    "from sqlitedict import SqliteDict\n",
    "\n",
    "def minibatch(seq, size):\n",
    "    items = []\n",
    "    for x in seq:\n",
    "        items.append(x)\n",
    "        if len(items) >= size:\n",
    "            yield items\n",
    "            items = []\n",
    "    if items:\n",
    "        yield items\n",
    "        \n",
    "import zlib, pickle, sqlite3\n",
    "def compress_encode(obj: bytes):\n",
    "     return sqlite3.Binary(zlib.compress(obj))\n",
    "def compress_decode(obj):\n",
    "     return zlib.decompress(bytes(obj))\n",
    "\n",
    "class RunnerCached():\n",
    "    def __init__(self, process: Process, path: Union[str, Path], progress_bar: bool = True, batch_size: int = 1024):\n",
    "        self.process = process\n",
    "        self.progress_bar = progress_bar\n",
    "        self.batch_size = batch_size\n",
    "        \n",
    "        self.path = Path(path)\n",
    "        \n",
    "        self._query = SqliteDict(path, tablename='query', autocommit=True)\n",
    "        self._fetch = SqliteDict(path, tablename='fetch', autocommit=False, encode=compress_encode, decode=compress_decode)\n",
    "        \n",
    "    def query(self):\n",
    "        # TODO: Don't cache WaybackQuery or FileQuery\n",
    "        for query in tqdm(self.process.queries, desc='query', disable=not self.progress_bar):\n",
    "            key = repr(query)\n",
    "            if key not in self._query:\n",
    "                self._query[key] = list(query.query())\n",
    "                \n",
    "        # TODO: Merge\n",
    "        for query in self.process.queries:\n",
    "            for record in self._query[key]:\n",
    "                yield record\n",
    "                \n",
    "    def prepare(self, records):\n",
    "        return self.process.filter(tqdm(records, desc='filter', disable=not self.progress_bar))\n",
    "\n",
    "    def fetch(self, records):\n",
    "        records = list(records)\n",
    "        unfetched_records = sorted([r for r in records if r.digest not in self._fetch], key=lambda x: str(type(x)))\n",
    "        \n",
    "        with tqdm(total=len(unfetched_records), desc='fetch') as pbar:\n",
    "            for cls, record_group in itertools.groupby(unfetched_records, key=type):\n",
    "                for record_group_batch in minibatch(record_group, self.batch_size):\n",
    "                    record_group_batch = list(record_group_batch)\n",
    "                    for content, record in zip(cls.fetch_parallel(record_group_batch, \n",
    "                                                                  callback=lambda r, c: pbar.update(1)),\n",
    "                                               record_group_batch):\n",
    "                        assert record.digest is not None\n",
    "                        self._fetch[record.digest] = content\n",
    "                    self._fetch.commit()\n",
    "\n",
    "        for record in records:\n",
    "            yield (self._fetch[record.digest], record)\n",
    "                \n",
    "\n",
    "    def transform(self, content_records):\n",
    "        for content, record in tqdm(content_records, desc='transform', disable=not self.progress_bar):\n",
    "            error = False\n",
    "            for step in self.process.steps:\n",
    "                try:\n",
    "                    content = step(content, record)\n",
    "                except Exception as e:\n",
    "                    error = True\n",
    "                    logging.error('Error processing %s at step %s: %s' % (record, step.__name__, e))\n",
    "                    break\n",
    "            if not error:\n",
    "                yield content\n",
    "\n",
    "    def run(self):\n",
    "        records = self.prepare(self.query())\n",
    "        content_records = self.fetch(records)\n",
    "        return self.transform(content_records) "
   ]
  },
  {
   "cell_type": "markdown",
   "id": "5d7cff28",
   "metadata": {},
   "source": [
    "## Simple test process"
   ]
  },
  {
   "cell_type": "markdown",
   "id": "d7f48e96",
   "metadata": {},
   "source": [
    "In practice we'd use a something like parsel, beautifulsoup or selectolax.\n",
    "However for a simple demo this has no external dependencies."
   ]
  },
  {
   "cell_type": "code",
   "execution_count": 63,
   "id": "14be7a72",
   "metadata": {},
   "outputs": [],
   "source": [
    "from html.parser import HTMLParser\n",
    "\n",
    "class SkeptricHTMLParser(HTMLParser):\n",
    "    def __init__(self):\n",
    "        super().__init__()\n",
    "        self.extract = {}\n",
    "        self.field = None\n",
    "        \n",
    "    def handle_starttag(self, tag, attrs):\n",
    "        if dict(attrs).get('class') == 'post-full-title':\n",
    "            self.field = 'title'\n",
    "        if dict(attrs).get('class') == 'byline-meta-date':\n",
    "            self.field = 'date'\n",
    "\n",
    "    def handle_endtag(self, tag):\n",
    "        self.field = None\n",
    "\n",
    "    def handle_data(self, data):\n",
    "        if self.field is not None:\n",
    "            self.extract[self.field] = data\n",
    "\n",
    "def skeptric_filter(records):\n",
    "    for r in records:\n",
    "        if r.mime == 'text/html' and r.status == 200:\n",
    "            yield r\n",
    "        \n",
    "def skeptric_extract(content, metadata):\n",
    "    parser = SkeptricHTMLParser()\n",
    "    html = content.decode('utf-8')\n",
    "    parser.feed(html)\n",
    "    data = parser.extract\n",
    "    data['url'] = metadata.url\n",
    "    data['timestamp'] = metadata.timestamp\n",
    "    return data\n",
    "\n",
    "def skeptric_verify_extract(content, metadata):\n",
    "    if not content.get('title'):\n",
    "        raise ValueError('Missing title')\n",
    "    if not content.get('date'):\n",
    "        raise ValueError('Missing date')\n",
    "    return content\n",
    "\n",
    "from datetime import datetime\n",
    "def skeptric_normalise(content, metadata):\n",
    "    content = content.copy()\n",
    "    content['date'] = datetime.strptime(content['date'], '%d %B %Y')\n",
    "    return content\n",
    "\n",
    "from webrefine.query import WarcFileQuery\n",
    "test_data = '../resources/test/skeptric.warc.gz'\n",
    "\n",
    "skeptric_query = WarcFileQuery(test_data)"
   ]
  },
  {
   "cell_type": "markdown",
   "id": "987498ca",
   "metadata": {},
   "source": [
    "# Test Memory Runner"
   ]
  },
  {
   "cell_type": "code",
   "execution_count": 64,
   "id": "7bf1a9dc",
   "metadata": {},
   "outputs": [],
   "source": [
    "skeptric_process = Process(queries=[skeptric_query],\n",
    "                     filter=skeptric_filter,\n",
    "                     steps=[skeptric_extract, skeptric_verify_extract, skeptric_normalise])"
   ]
  },
  {
   "cell_type": "code",
   "execution_count": 65,
   "id": "ccba7eeb",
   "metadata": {},
   "outputs": [
    {
     "data": {
      "application/vnd.jupyter.widget-view+json": {
       "model_id": "dc4a3d31b9304ede8cc191f1386c1825",
       "version_major": 2,
       "version_minor": 0
      },
      "text/plain": [
       "filter: 0it [00:00, ?it/s]"
      ]
     },
     "metadata": {},
     "output_type": "display_data"
    },
    {
     "data": {
      "application/vnd.jupyter.widget-view+json": {
       "model_id": "3d132ae69091434d908b036f52eb7bbe",
       "version_major": 2,
       "version_minor": 0
      },
      "text/plain": [
       "transform: 0it [00:00, ?it/s]"
      ]
     },
     "metadata": {},
     "output_type": "display_data"
    },
    {
     "data": {
      "application/vnd.jupyter.widget-view+json": {
       "model_id": "cffbf4c4d2054339838d95c957e976ee",
       "version_major": 2,
       "version_minor": 0
      },
      "text/plain": [
       "fetch: 0it [00:00, ?it/s]"
      ]
     },
     "metadata": {},
     "output_type": "display_data"
    },
    {
     "data": {
      "application/vnd.jupyter.widget-view+json": {
       "model_id": "9e3eb39af52a476aa3dd47215008f0c0",
       "version_major": 2,
       "version_minor": 0
      },
      "text/plain": [
       "query:   0%|          | 0/1 [00:00<?, ?it/s]"
      ]
     },
     "metadata": {},
     "output_type": "display_data"
    },
    {
     "name": "stderr",
     "output_type": "stream",
     "text": [
      "ERROR:root:Error processing WarcFileRecord(url='https://skeptric.com/', timestamp=datetime.datetime(2021, 11, 26, 11, 28, 36), mime='text/html', status=200, path=PosixPath('../resources/test/skeptric.warc.gz'), offset=17122, digest='JJVB3MQERHRZJCHOJNKS5VDOODXPZAV2') at step skeptric_verify_extract: Missing title\n",
      "ERROR:root:Error processing WarcFileRecord(url='https://skeptric.com/tags/data/', timestamp=datetime.datetime(2021, 11, 26, 11, 28, 38), mime='text/html', status=200, path=PosixPath('../resources/test/skeptric.warc.gz'), offset=130269, digest='R7CLAACFU5L7T5LKI5G53RZSMCNUNV6F') at step skeptric_verify_extract: Missing title\n"
     ]
    },
    {
     "data": {
      "text/plain": [
       "[{'title': \"Pagination in Internet Archive's Wayback Machine with CDX\",\n",
       "  'date': datetime.datetime(2021, 11, 23, 0, 0),\n",
       "  'url': 'https://skeptric.com/pagination-wayback-cdx/',\n",
       "  'timestamp': datetime.datetime(2021, 11, 26, 11, 28, 34)},\n",
       " {'title': 'About Skeptric',\n",
       "  'date': datetime.datetime(2021, 10, 18, 0, 0),\n",
       "  'url': 'https://skeptric.com/about/',\n",
       "  'timestamp': datetime.datetime(2021, 11, 26, 11, 28, 37)},\n",
       " {'title': 'Searching 100 Billion Webpages Pages With Capture Index',\n",
       "  'date': datetime.datetime(2020, 6, 11, 0, 0),\n",
       "  'url': 'https://skeptric.com/searching-100b-pages-cdx/',\n",
       "  'timestamp': datetime.datetime(2021, 11, 26, 11, 28, 39)},\n",
       " {'title': 'Fast Web Dataset Extraction Worfklow',\n",
       "  'date': datetime.datetime(2021, 11, 21, 0, 0),\n",
       "  'url': 'https://skeptric.com/fast-web-data-workflow/',\n",
       "  'timestamp': datetime.datetime(2021, 11, 26, 11, 28, 39)},\n",
       " {'title': 'Unique Key for Web Captures',\n",
       "  'date': datetime.datetime(2021, 11, 19, 0, 0),\n",
       "  'url': 'https://skeptric.com/key-web-captures/',\n",
       "  'timestamp': datetime.datetime(2021, 11, 26, 11, 28, 40)},\n",
       " {'title': 'Hugo Readdir Error with Emacs',\n",
       "  'date': datetime.datetime(2021, 11, 22, 0, 0),\n",
       "  'url': 'https://skeptric.com/emacs-tempfile-hugo/',\n",
       "  'timestamp': datetime.datetime(2021, 11, 26, 11, 28, 40)}]"
      ]
     },
     "execution_count": 65,
     "metadata": {},
     "output_type": "execute_result"
    }
   ],
   "source": [
    "data = list(RunnerMemory(skeptric_process).run())\n",
    "data"
   ]
  },
  {
   "cell_type": "markdown",
   "id": "74cc04ed",
   "metadata": {},
   "source": [
    "We can always look up an error\n",
    "\n",
    "Would be nicer if everything was a string so we didn't have to handle the imports..."
   ]
  },
  {
   "cell_type": "code",
   "execution_count": 66,
   "id": "bfc4cd45",
   "metadata": {},
   "outputs": [
    {
     "data": {
      "text/plain": [
       "WarcFileRecord(url='https://skeptric.com/', timestamp=datetime.datetime(2021, 11, 26, 11, 28, 36), mime='text/html', status=200, path=PosixPath('../resources/test/skeptric.warc.gz'), offset=17122, digest='JJVB3MQERHRZJCHOJNKS5VDOODXPZAV2')"
      ]
     },
     "execution_count": 66,
     "metadata": {},
     "output_type": "execute_result"
    }
   ],
   "source": [
    "from webrefine.query import WarcFileRecord\n",
    "from pathlib import PosixPath\n",
    "WarcFileRecord(url='https://skeptric.com/', timestamp=datetime(2021, 11, 26, 11, 28, 36), mime='text/html', status=200, path=PosixPath('../resources/test/skeptric.warc.gz'), offset=17122, digest='JJVB3MQERHRZJCHOJNKS5VDOODXPZAV2')"
   ]
  },
  {
   "cell_type": "markdown",
   "id": "5f3b8f62",
   "metadata": {},
   "source": [
    "# Test Persistent Runner"
   ]
  },
  {
   "cell_type": "code",
   "execution_count": 67,
   "id": "567f9fa7",
   "metadata": {},
   "outputs": [
    {
     "data": {
      "application/vnd.jupyter.widget-view+json": {
       "model_id": "a0e3e8f603654200b67072b033eacdf3",
       "version_major": 2,
       "version_minor": 0
      },
      "text/plain": [
       "filter: 0it [00:00, ?it/s]"
      ]
     },
     "metadata": {},
     "output_type": "display_data"
    },
    {
     "data": {
      "application/vnd.jupyter.widget-view+json": {
       "model_id": "abe0cc14d7394988b4b97ebf8f22c295",
       "version_major": 2,
       "version_minor": 0
      },
      "text/plain": [
       "transform: 0it [00:00, ?it/s]"
      ]
     },
     "metadata": {},
     "output_type": "display_data"
    },
    {
     "data": {
      "application/vnd.jupyter.widget-view+json": {
       "model_id": "38b8f6e5563449399365b30628f020db",
       "version_major": 2,
       "version_minor": 0
      },
      "text/plain": [
       "query:   0%|          | 0/1 [00:00<?, ?it/s]"
      ]
     },
     "metadata": {},
     "output_type": "display_data"
    },
    {
     "data": {
      "application/vnd.jupyter.widget-view+json": {
       "model_id": "de6caa69ff6242f4924ad28ba7e6b031",
       "version_major": 2,
       "version_minor": 0
      },
      "text/plain": [
       "fetch:   0%|          | 0/8 [00:00<?, ?it/s]"
      ]
     },
     "metadata": {},
     "output_type": "display_data"
    },
    {
     "name": "stderr",
     "output_type": "stream",
     "text": [
      "ERROR:root:Error processing WarcFileRecord(url='https://skeptric.com/', timestamp=datetime.datetime(2021, 11, 26, 11, 28, 36), mime='text/html', status=200, path=PosixPath('../resources/test/skeptric.warc.gz'), offset=17122, digest='JJVB3MQERHRZJCHOJNKS5VDOODXPZAV2') at step skeptric_verify_extract: Missing title\n",
      "ERROR:root:Error processing WarcFileRecord(url='https://skeptric.com/tags/data/', timestamp=datetime.datetime(2021, 11, 26, 11, 28, 38), mime='text/html', status=200, path=PosixPath('../resources/test/skeptric.warc.gz'), offset=130269, digest='R7CLAACFU5L7T5LKI5G53RZSMCNUNV6F') at step skeptric_verify_extract: Missing title\n"
     ]
    },
    {
     "name": "stdout",
     "output_type": "stream",
     "text": [
      "CPU times: user 794 ms, sys: 12.6 ms, total: 807 ms\n",
      "Wall time: 799 ms\n"
     ]
    }
   ],
   "source": [
    "%%time\n",
    "from pathlib import Path\n",
    "test_cache_path = Path('./test_skeptric_cache.sqlite')\n",
    "\n",
    "if test_cache_path.exists():\n",
    "    test_cache_path.unlink()\n",
    "\n",
    "data_cached = list(RunnerCached(skeptric_process, test_cache_path).run())"
   ]
  },
  {
   "cell_type": "code",
   "execution_count": 68,
   "id": "06a1fa98",
   "metadata": {},
   "outputs": [],
   "source": [
    "assert data_cached == data"
   ]
  },
  {
   "cell_type": "code",
   "execution_count": 77,
   "id": "a0f4f9a9",
   "metadata": {},
   "outputs": [
    {
     "data": {
      "application/vnd.jupyter.widget-view+json": {
       "model_id": "802cf029de9f41089581560902746626",
       "version_major": 2,
       "version_minor": 0
      },
      "text/plain": [
       "filter: 0it [00:00, ?it/s]"
      ]
     },
     "metadata": {},
     "output_type": "display_data"
    },
    {
     "data": {
      "application/vnd.jupyter.widget-view+json": {
       "model_id": "d95cb7b72cea4c12bd376d7ebb5245b7",
       "version_major": 2,
       "version_minor": 0
      },
      "text/plain": [
       "transform: 0it [00:00, ?it/s]"
      ]
     },
     "metadata": {},
     "output_type": "display_data"
    },
    {
     "data": {
      "application/vnd.jupyter.widget-view+json": {
       "model_id": "9b13319fc8d34f6faa2da5b8e96ea5be",
       "version_major": 2,
       "version_minor": 0
      },
      "text/plain": [
       "query:   0%|          | 0/1 [00:00<?, ?it/s]"
      ]
     },
     "metadata": {},
     "output_type": "display_data"
    },
    {
     "data": {
      "application/vnd.jupyter.widget-view+json": {
       "model_id": "99042d2be34f4c2c8b282d07942b6f24",
       "version_major": 2,
       "version_minor": 0
      },
      "text/plain": [
       "fetch:   0%|          | 0/8 [00:00<?, ?it/s]"
      ]
     },
     "metadata": {},
     "output_type": "display_data"
    },
    {
     "name": "stderr",
     "output_type": "stream",
     "text": [
      "ERROR:root:Error processing WarcFileRecord(url='https://skeptric.com/', timestamp=datetime.datetime(2021, 11, 26, 11, 28, 36), mime='text/html', status=200, path=PosixPath('../resources/test/skeptric.warc.gz'), offset=17122, digest='JJVB3MQERHRZJCHOJNKS5VDOODXPZAV2') at step skeptric_verify_extract: Missing title\n",
      "ERROR:root:Error processing WarcFileRecord(url='https://skeptric.com/tags/data/', timestamp=datetime.datetime(2021, 11, 26, 11, 28, 38), mime='text/html', status=200, path=PosixPath('../resources/test/skeptric.warc.gz'), offset=130269, digest='R7CLAACFU5L7T5LKI5G53RZSMCNUNV6F') at step skeptric_verify_extract: Missing title\n"
     ]
    }
   ],
   "source": [
    "assert data_cached == list(RunnerCached(skeptric_process, test_cache_path).run())"
   ]
  },
  {
   "cell_type": "code",
   "execution_count": 69,
   "id": "706a8da1",
   "metadata": {},
   "outputs": [
    {
     "data": {
      "application/vnd.jupyter.widget-view+json": {
       "model_id": "0f86032acc7a4a40815213653a697799",
       "version_major": 2,
       "version_minor": 0
      },
      "text/plain": [
       "filter: 0it [00:00, ?it/s]"
      ]
     },
     "metadata": {},
     "output_type": "display_data"
    },
    {
     "data": {
      "application/vnd.jupyter.widget-view+json": {
       "model_id": "41972fa0fce54abe91dcac55a6477a80",
       "version_major": 2,
       "version_minor": 0
      },
      "text/plain": [
       "transform: 0it [00:00, ?it/s]"
      ]
     },
     "metadata": {},
     "output_type": "display_data"
    },
    {
     "data": {
      "application/vnd.jupyter.widget-view+json": {
       "model_id": "fb073529fde843c7b4258d4967f04a70",
       "version_major": 2,
       "version_minor": 0
      },
      "text/plain": [
       "query:   0%|          | 0/1 [00:00<?, ?it/s]"
      ]
     },
     "metadata": {},
     "output_type": "display_data"
    },
    {
     "data": {
      "application/vnd.jupyter.widget-view+json": {
       "model_id": "3cefe60e40c24ba596cadc06ac701c33",
       "version_major": 2,
       "version_minor": 0
      },
      "text/plain": [
       "fetch:   0%|          | 0/8 [00:00<?, ?it/s]"
      ]
     },
     "metadata": {},
     "output_type": "display_data"
    },
    {
     "name": "stderr",
     "output_type": "stream",
     "text": [
      "ERROR:root:Error processing WarcFileRecord(url='https://skeptric.com/', timestamp=datetime.datetime(2021, 11, 26, 11, 28, 36), mime='text/html', status=200, path=PosixPath('../resources/test/skeptric.warc.gz'), offset=17122, digest='JJVB3MQERHRZJCHOJNKS5VDOODXPZAV2') at step skeptric_verify_extract: Missing title\n",
      "ERROR:root:Error processing WarcFileRecord(url='https://skeptric.com/tags/data/', timestamp=datetime.datetime(2021, 11, 26, 11, 28, 38), mime='text/html', status=200, path=PosixPath('../resources/test/skeptric.warc.gz'), offset=130269, digest='R7CLAACFU5L7T5LKI5G53RZSMCNUNV6F') at step skeptric_verify_extract: Missing title\n"
     ]
    },
    {
     "name": "stdout",
     "output_type": "stream",
     "text": [
      "CPU times: user 777 ms, sys: 27.7 ms, total: 805 ms\n",
      "Wall time: 788 ms\n"
     ]
    }
   ],
   "source": [
    "%%time\n",
    "from pathlib import Path\n",
    "test_cache_path = Path('./test_skeptric_cache.sqlite')\n",
    "\n",
    "if test_cache_path.exists():\n",
    "    test_cache_path.unlink()\n",
    "\n",
    "data_cached_small_batch = list(RunnerCached(skeptric_process, test_cache_path, batch_size=2).run())"
   ]
  },
  {
   "cell_type": "code",
   "execution_count": 70,
   "id": "e2b818d5",
   "metadata": {},
   "outputs": [],
   "source": [
    "assert data_cached == data_cached_small_batch"
   ]
  },
  {
   "cell_type": "code",
   "execution_count": 72,
   "id": "be72224b",
   "metadata": {},
   "outputs": [],
   "source": [
    "#slow\n",
    "from webrefine.query import CommonCrawlQuery, WaybackQuery\n",
    "from datetime import datetime\n",
    "\n",
    "skeptric_cc = CommonCrawlQuery('skeptric.com/*', apis=['CC-MAIN-2021-43'])\n",
    "\n",
    "skeptric_wb = WaybackQuery('skeptric.com/*', start='202103', end='202111')\n",
    "\n",
    "def skeptric_filter_strict(records):\n",
    "    for r in records:\n",
    "        if r.mime != 'text/html' or r.status != 200:\n",
    "            continue\n",
    "        if '/tags/' in r.url or '/notebooks/' in r.url or r.url.endswith('skeptric.com/'):\n",
    "            continue\n",
    "        yield r\n",
    "\n",
    "skeptric_process_all = Process(queries=[skeptric_query, skeptric_cc, skeptric_wb],\n",
    "                     filter=skeptric_filter_strict,\n",
    "                     steps=[skeptric_extract, skeptric_verify_extract, skeptric_normalise])"
   ]
  },
  {
   "cell_type": "markdown",
   "id": "a7eae9d7",
   "metadata": {},
   "source": [
    "The cached runner has to evaluate everything the first time and so is slow.\n",
    "\n",
    "TODO: We need to fix the fetch progress bar (callbacks?)"
   ]
  },
  {
   "cell_type": "code",
   "execution_count": 73,
   "id": "f62b9777",
   "metadata": {},
   "outputs": [
    {
     "data": {
      "application/vnd.jupyter.widget-view+json": {
       "model_id": "1565d6130d284a3db41243aad5f6f9a1",
       "version_major": 2,
       "version_minor": 0
      },
      "text/plain": [
       "filter: 0it [00:00, ?it/s]"
      ]
     },
     "metadata": {},
     "output_type": "display_data"
    },
    {
     "data": {
      "application/vnd.jupyter.widget-view+json": {
       "model_id": "1d82417d0ee7400f907dd099efba4440",
       "version_major": 2,
       "version_minor": 0
      },
      "text/plain": [
       "transform: 0it [00:00, ?it/s]"
      ]
     },
     "metadata": {},
     "output_type": "display_data"
    },
    {
     "data": {
      "application/vnd.jupyter.widget-view+json": {
       "model_id": "4bef77039faf4d76b6550bd0860d7a8b",
       "version_major": 2,
       "version_minor": 0
      },
      "text/plain": [
       "query:   0%|          | 0/3 [00:00<?, ?it/s]"
      ]
     },
     "metadata": {},
     "output_type": "display_data"
    },
    {
     "data": {
      "application/vnd.jupyter.widget-view+json": {
       "model_id": "fc4bb781a77f4f30a57665de58852e18",
       "version_major": 2,
       "version_minor": 0
      },
      "text/plain": [
       "fetch:   0%|          | 0/873 [00:00<?, ?it/s]"
      ]
     },
     "metadata": {},
     "output_type": "display_data"
    },
    {
     "name": "stdout",
     "output_type": "stream",
     "text": [
      "CPU times: user 20.3 s, sys: 1.41 s, total: 21.7 s\n",
      "Wall time: 1min 13s\n"
     ]
    },
    {
     "data": {
      "text/plain": [
       "882"
      ]
     },
     "execution_count": 73,
     "metadata": {},
     "output_type": "execute_result"
    }
   ],
   "source": [
    "# slow\n",
    "%time data_all = list(RunnerCached(skeptric_process_all, test_cache_path).run())\n",
    "len(data_all)"
   ]
  },
  {
   "cell_type": "markdown",
   "id": "1bd15e04",
   "metadata": {},
   "source": [
    "Cache size in MB"
   ]
  },
  {
   "cell_type": "code",
   "execution_count": 74,
   "id": "f2677613",
   "metadata": {},
   "outputs": [
    {
     "data": {
      "text/plain": [
       "1.828125"
      ]
     },
     "execution_count": 74,
     "metadata": {},
     "output_type": "execute_result"
    }
   ],
   "source": [
    "test_cache_path.stat().st_size / 1024**2"
   ]
  },
  {
   "cell_type": "markdown",
   "id": "5bfac23f",
   "metadata": {},
   "source": [
    "It runs much faster the second time"
   ]
  },
  {
   "cell_type": "code",
   "execution_count": 75,
   "id": "c4075803",
   "metadata": {},
   "outputs": [
    {
     "data": {
      "application/vnd.jupyter.widget-view+json": {
       "model_id": "56c5b6bdb3d64c859eab2c4e6e1f8d82",
       "version_major": 2,
       "version_minor": 0
      },
      "text/plain": [
       "filter: 0it [00:00, ?it/s]"
      ]
     },
     "metadata": {},
     "output_type": "display_data"
    },
    {
     "data": {
      "application/vnd.jupyter.widget-view+json": {
       "model_id": "600d4cd5ba52463c9a3cd0035ccf3e2e",
       "version_major": 2,
       "version_minor": 0
      },
      "text/plain": [
       "transform: 0it [00:00, ?it/s]"
      ]
     },
     "metadata": {},
     "output_type": "display_data"
    },
    {
     "data": {
      "application/vnd.jupyter.widget-view+json": {
       "model_id": "920d8db6d9e647cfb3c4ecd8b720b620",
       "version_major": 2,
       "version_minor": 0
      },
      "text/plain": [
       "query:   0%|          | 0/3 [00:00<?, ?it/s]"
      ]
     },
     "metadata": {},
     "output_type": "display_data"
    },
    {
     "data": {
      "application/vnd.jupyter.widget-view+json": {
       "model_id": "53262956ca7346b38311e7bbb34a36a0",
       "version_major": 2,
       "version_minor": 0
      },
      "text/plain": [
       "fetch: 0it [00:00, ?it/s]"
      ]
     },
     "metadata": {},
     "output_type": "display_data"
    },
    {
     "name": "stdout",
     "output_type": "stream",
     "text": [
      "CPU times: user 9.69 s, sys: 294 ms, total: 9.99 s\n",
      "Wall time: 9.86 s\n"
     ]
    }
   ],
   "source": [
    "# slow\n",
    "%time data_all_2 = list(RunnerCached(skeptric_process_all, test_cache_path).run())\n",
    "assert data_all == data_all_2"
   ]
  },
  {
   "cell_type": "code",
   "execution_count": 76,
   "id": "947d163d",
   "metadata": {},
   "outputs": [],
   "source": [
    "test_cache_path.unlink()"
   ]
  }
 ],
 "metadata": {
  "kernelspec": {
   "display_name": "Python 3 (ipykernel)",
   "language": "python",
   "name": "python3"
  },
  "language_info": {
   "codemirror_mode": {
    "name": "ipython",
    "version": 3
   },
   "file_extension": ".py",
   "mimetype": "text/x-python",
   "name": "python",
   "nbconvert_exporter": "python",
   "pygments_lexer": "ipython3",
   "version": "3.8.10"
  },
  "toc": {
   "base_numbering": 1,
   "nav_menu": {},
   "number_sections": true,
   "sideBar": true,
   "skip_h1_title": false,
   "title_cell": "Table of Contents",
   "title_sidebar": "Contents",
   "toc_cell": false,
   "toc_position": {},
   "toc_section_display": true,
   "toc_window_display": false
  }
 },
 "nbformat": 4,
 "nbformat_minor": 5
}
